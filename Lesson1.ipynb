{
  "nbformat": 4,
  "nbformat_minor": 0,
  "metadata": {
    "colab": {
      "provenance": [],
      "toc_visible": true
    },
    "kernelspec": {
      "name": "python3",
      "display_name": "Python 3"
    },
    "language_info": {
      "name": "python"
    }
  },
  "cells": [
    {
      "cell_type": "markdown",
      "source": [
        "# Welcome to my Python programming course!\n",
        "I'm glad you can follow along on our journey to learn Python together.\n",
        "\n",
        "Before we can begin programming, you need to install python onto your system. Go to the following [website](https://www.python.org). Here you will navigate to the tab that says Downloads and download the latest version of Python to your system. Once you complete that step, you will notice that the IDLE, along with the Python console have been downloaded. From there you can open the Python console, select File and then New Python File, and we can begin programming."
      ],
      "metadata": {
        "id": "XAu7pzsu2s06"
      }
    },
    {
      "cell_type": "code",
      "source": [
        "print(\"Hello, World!\")"
      ],
      "metadata": {
        "id": "5KaGDAQd4tmY"
      },
      "execution_count": null,
      "outputs": []
    },
    {
      "cell_type": "markdown",
      "source": [
        "You will notice above, I have written one line of Python for you. Hit the play button to see what happens. You will notice that it prints whatever is inside the parenthesis below it. This is called the `print()` statement. This is responsible for printing whatever you need it to the Python console. In order for the `print()` statement to print anything to the console, the item inside the parenthesis must be a **string literal**, a **numerical value**, or a **variable**."
      ],
      "metadata": {
        "id": "Rbmz9Q5A4xA2"
      }
    },
    {
      "cell_type": "code",
      "source": [
        "print(\"This is a string literal.\")\n",
        "\n",
        "print(56)   # This is a numerical value\n",
        "\n",
        "var = 39    # This is a variable, we will discuss more about them in a future lesson\n",
        "print(var)"
      ],
      "metadata": {
        "id": "FoTunMuK6MXW"
      },
      "execution_count": null,
      "outputs": []
    },
    {
      "cell_type": "markdown",
      "source": [
        "### Exercise\n",
        "I would like for you to identify what is wrong with the following statement and fix it accordingly."
      ],
      "metadata": {
        "id": "O-zztYyX6BkX"
      }
    },
    {
      "cell_type": "code",
      "source": [
        "print(I love hot dogs!)"
      ],
      "metadata": {
        "id": "Q7iuhlEw6jz-"
      },
      "execution_count": null,
      "outputs": []
    },
    {
      "cell_type": "markdown",
      "source": [
        "## Homework Assignment\n",
        "\n",
        "For your first homework assignment, I would like you to create a python file named christmas.py which will print 3 things you want for christmas this year."
      ],
      "metadata": {
        "id": "1jfoDeah6oG6"
      }
    }
  ]
}