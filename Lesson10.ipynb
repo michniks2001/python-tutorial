{
  "cells": [
    {
      "cell_type": "markdown",
      "id": "da8616f04a956f33",
      "metadata": {
        "collapsed": false,
        "jupyter": {
          "outputs_hidden": false
        },
        "id": "da8616f04a956f33"
      },
      "source": [
        "# Lesson 10\n",
        "Previously we discussed some of the other built-in data structures that Python has to offer. We went over tuples, sets, and most importantly: dictionaries. In this lesson we will begin working with the data module for Python known as pandas.\n",
        "\n",
        "Pandas is a data structure module that allows us to work with structures called DataFrames. These DataFrames hold data similarly to a 2-D array. They structure our data into different rows and columns based on the information provided.\n",
        "\n",
        "Before taking a deep dive into pandas, let's go over how a DataFrame is represented using a dictionary and as a 2-D List."
      ]
    },
    {
      "cell_type": "code",
      "execution_count": null,
      "id": "19a0e77caaeaf762",
      "metadata": {
        "jupyter": {
          "outputs_hidden": false
        },
        "id": "19a0e77caaeaf762"
      },
      "outputs": [],
      "source": [
        "df_dict = {\n",
        "    \"Name\": [\"John Smith\", \"Jane Doe\", \"Alfred Pennyworth\", \"Bruce Wayne\"],\n",
        "    \"Age\": [20, 30, 65, 50],\n",
        "    \"Occupation\": [\"Businessman\", \"Civil Engineer\", \"Butler\", \"Philanthropist\"]\n",
        "}\n",
        "\n",
        "df_arr = [\n",
        "    [\"John Smith\", \"Jane Doe\", \"Alfred Pennyworth\", \"Bruce Wayne\"],\n",
        "    [20, 30, 65, 50],\n",
        "    [\"Businessman\", \"Civil Engineer\", \"Butler\", \"Philanthropist\"]\n",
        "]"
      ]
    },
    {
      "cell_type": "markdown",
      "id": "1a460061411211de",
      "metadata": {
        "collapsed": false,
        "jupyter": {
          "outputs_hidden": false
        },
        "id": "1a460061411211de"
      },
      "source": [
        "In the first example, is a dictionary in which the keys describe what they represent such as name, age, and occupation. In the second example, we have the same thing except it's a list of lists that represents a group of names, ages, and occupations.\n",
        "\n",
        "We can access them in similar ways using indexing like we always have, where the index of a dictionary is the key, and the index of a list is a number value starting from 0 and ending at the number 1 less than the length of the list.\n",
        "\n",
        "Feel free to access other elements in the previous structures using the code below"
      ]
    },
    {
      "cell_type": "code",
      "execution_count": null,
      "id": "da6dc6011136298",
      "metadata": {
        "is_executing": true,
        "jupyter": {
          "outputs_hidden": false
        },
        "id": "da6dc6011136298"
      },
      "outputs": [],
      "source": [
        "names1 = df_dict[\"Name\"]\n",
        "names2 = df_arr[0]\n",
        "print(names1, '\\n', names2)"
      ]
    },
    {
      "cell_type": "markdown",
      "id": "b8977bea9ee4e77f",
      "metadata": {
        "collapsed": false,
        "jupyter": {
          "outputs_hidden": false
        },
        "id": "b8977bea9ee4e77f"
      },
      "source": [
        "## Creating our First DataFrame\n",
        "So, to get started with pandas, first thing we have to do is install the pandas module using the `pip` package manager. Run the following command in your terminal:\n",
        "\n",
        "`pip install pandas`\n",
        "\n",
        "Once pandas is installed, we then have to import it. It is customary the module is imported as the variable `pd`. We will create DataFrames below using the previous DataFrame dictionary we created earlier"
      ]
    },
    {
      "cell_type": "code",
      "execution_count": null,
      "id": "f4f6f9173314042",
      "metadata": {
        "jupyter": {
          "outputs_hidden": false
        },
        "id": "f4f6f9173314042"
      },
      "outputs": [],
      "source": [
        "import pandas as pd\n",
        "\n",
        "df_dict = {\n",
        "    \"Name\": [\"John Smith\", \"Jane Doe\", \"Albert Pennyworth\", \"Bruce Wayne\"],\n",
        "    \"Age\": [20, 30, 65, 50],\n",
        "    \"Occupation\": [\"Businessman\", \"Civil Engineer\", \"Butler\", \"Philanthropist\"]\n",
        "}\n",
        "\n",
        "\n",
        "df = pd.DataFrame(df_dict)\n",
        "print(df)"
      ]
    },
    {
      "cell_type": "markdown",
      "id": "defb7e017419073",
      "metadata": {
        "collapsed": false,
        "jupyter": {
          "outputs_hidden": false
        },
        "id": "defb7e017419073"
      },
      "source": [
        "## Creating our First Data Visualization\n",
        "\n",
        "As you can see above from the code being run, we have a DataFrame with data inside it. The data is separated into rows and columns. The rows being numbered 1 to however many there are, and columns having the names of the keys of our dictionary.\n",
        "\n",
        "Like other data related languages, pandas also has a way to use outside data sources. There is a student.csv file in our directory, we will use this data going forward. Let's begin working with this data now.\n",
        "\n",
        "We will also be creating a bar graph that will represent our data. We do this by using the matplotlib.pyplot module. Install it below using the following command:\n",
        "\n",
        "`pip install matplotlib`\n",
        "\n",
        "In the import statement, you will notice we call it as a part of the matplotlib library."
      ]
    },
    {
      "cell_type": "code",
      "execution_count": null,
      "id": "12e2168a666a9030",
      "metadata": {
        "jupyter": {
          "outputs_hidden": false
        },
        "id": "12e2168a666a9030"
      },
      "outputs": [],
      "source": [
        "import pandas as pd\n",
        "import matplotlib.pyplot as plt\n",
        "\n",
        "file = \"student.csv\"\n",
        "df = pd.read_csv(file)\n",
        "\n",
        "\"\"\"\n",
        "Let's clean this up\n",
        "1)  We can get rid of the id column, since our indices already have the number associated with the student.\n",
        "    To do this, we can use the drop() function\n",
        "\"\"\"\n",
        "\n",
        "df = df.drop(columns='id')\n",
        "\n",
        "\"\"\"\n",
        "As you can see in our output we no longer have a column for id numbers.\n",
        "To isolate different columns, we just use the same [] brackets like we do for dictionaries and\n",
        "specify the name of the column.\n",
        "\"\"\"\n",
        "\n",
        "classes = df['class']\n",
        "\n",
        "\"\"\"\n",
        "We should probably clean this up a little as these classes are a little wonky looking.\n",
        "Let's normalize the names of our classes.\n",
        "\n",
        "Since we know the data we can change the name of the one outlier in there which is the \"Fifth\" class and change it to \"Five\" since that would fit with our naming scheme. Let's take a look at this method below\n",
        "\n",
        "We use the replace function to change the name of one class value to another to match with everything else in our dataframe\n",
        "\"\"\"\n",
        "\n",
        "df['class'] = df['class'].replace('Fifth', 'Five')\n",
        "\n",
        "\"\"\"\n",
        "We have a normalized naming scheme for our classes now. Let's now create a list of averages for the marks in each class within our dataframe. First, let's create our x values, which will go on our x axis of our graph.\n",
        "\"\"\"\n",
        "\n",
        "xes: list[str] = list({cls for cls in list(df['class'])})\n",
        "\n",
        "\"\"\"\n",
        "Here we created a list of all the classes without any repeats, these will be our x values when we plot our bar graph\n",
        "\n",
        "Let's now get the averages for each class in our list.\n",
        "\n",
        "We do this by grouping each class together in our dataframe, and then average out the marks for each class using the mean() function.\n",
        "\n",
        "We can now create a bar graph using the matplotlib.pyplot library using the bar() function.\n",
        "\"\"\"\n",
        "\n",
        "yes: list[float] = list(df.groupby('class')['mark'].mean())\n",
        "\n",
        "# Here all we do is declare title, x-label, and y-label to pretty up the bar graph\n",
        "plt.title(\"Class Averages\")\n",
        "plt.xlabel(\"Class\")\n",
        "plt.ylabel(\"Average Marks\")\n",
        "plt.bar(xes, yes)"
      ]
    },
    {
      "cell_type": "markdown",
      "id": "c53cc5de0e908a62",
      "metadata": {
        "collapsed": false,
        "jupyter": {
          "outputs_hidden": false
        },
        "id": "c53cc5de0e908a62"
      },
      "source": [
        "Below will be all the code we used put together into a more compact and readable format."
      ]
    },
    {
      "cell_type": "code",
      "execution_count": null,
      "id": "f791a1ab582bf3a4",
      "metadata": {
        "jupyter": {
          "outputs_hidden": false
        },
        "id": "f791a1ab582bf3a4"
      },
      "outputs": [],
      "source": [
        "import pandas as pd\n",
        "import matplotlib.pyplot as plt\n",
        "\n",
        "# Read the csv file which will contain our dataframe\n",
        "df: pd.DataFrame = pd.read_csv('student.csv')\n",
        "\n",
        "# Drop unnecessary columns\n",
        "df.drop(columns='id')\n",
        "\n",
        "# Normalize any values to fit with our dataframe naming scheme\n",
        "df['class'] = df['class'].replace('Fifth', 'Five')\n",
        "\n",
        "# Create our list of x-values for our graph which will be the names of the classes\n",
        "xes = list({cls for cls in list(df['class'])})\n",
        "\n",
        "# Create our list of y-values for our graph which will be the average marks for each class\n",
        "yes = list(df.groupby('class')['mark'].mean())\n",
        "\n",
        "# Format our graph and output it to the screen\n",
        "plt.title(\"Class Averages\")\n",
        "plt.xlabel(\"Class\")\n",
        "plt.ylabel(\"Average Marks\")\n",
        "plt.bar(xes, yes)"
      ]
    },
    {
      "cell_type": "markdown",
      "id": "6b16c0ce031b18a5",
      "metadata": {
        "collapsed": false,
        "jupyter": {
          "outputs_hidden": false
        },
        "id": "6b16c0ce031b18a5"
      },
      "source": [
        "This is our intro into pandas. We covered quite a lot:\n",
        "1) DataFrames\n",
        "2) Importing data\n",
        "3) Cleaning data\n",
        "4) Creating Data Visualizations\n",
        "\n",
        "There is much more to this module and the other data libraries."
      ]
    },
    {
      "cell_type": "markdown",
      "id": "375b1357a26384bc",
      "metadata": {
        "collapsed": false,
        "jupyter": {
          "outputs_hidden": false
        },
        "id": "375b1357a26384bc"
      },
      "source": [
        "## Assignment\n",
        "Create a new Python file in your project directory and fill out the template below by creating a function called clean_data and follow the guidelines below\n",
        "1) Group the dataframe by the column name \"Series_title_1\" by using the `groupby()` function\n",
        "2) Take 10 random groups from the `GroupBy` object created from the previous step by using `random.sample()`\n",
        "    * You will have to convert the `GroupBy` object into a list in order to take a sample\n",
        "3) Create a new dataframe that will contain the information from the random groups you took in the previous step\n",
        "4) Repeat step 1 and create another `GroupBy` object on the dataframe created in the previous step\n",
        "5) Your x-values will be names of the groups in the `GroupBy` object created in the previous step\n",
        "6) Your y-values will be the mean values of of each group's \"Data_value\" column\n",
        "7) Return your x and y values.\n",
        "\n",
        "I will create the display_data function for you along with reading the csv file that you will be using for the assignment. I have also provided some type annotations to help you understand what you need to return for this program to function correctly."
      ]
    },
    {
      "cell_type": "code",
      "execution_count": null,
      "id": "c4d50251-9a4d-43df-9d01-94d37c0e1c15",
      "metadata": {
        "jupyter": {
          "outputs_hidden": false
        },
        "id": "c4d50251-9a4d-43df-9d01-94d37c0e1c15"
      },
      "outputs": [],
      "source": [
        "import pandas as pd\n",
        "import matplotlib.pyplot as plt\n",
        "import random\n",
        "\n",
        "\n",
        "def clean_data(df: pd.DataFrame) -> tuple[list[str], list[float]]:\n",
        "    # TODO: clean the dataframe provided\n",
        "    pass\n",
        "\n",
        "def display_data(xes: list[str], yes: list[float]) -> None:\n",
        "    plt.title(\"Service Means\")\n",
        "    plt.xticks(range(len(xes)), xes, rotation=45)\n",
        "    plt.ylabel(\"Mean Values\")\n",
        "    plt.bar(xes, yes)\n",
        "    plt.show()\n",
        "\n",
        "if __name__ == \"__main__\":\n",
        "    file: str = \"cpi.csv\"\n",
        "    df: pd.DataFrame = pd.read_csv(file)\n",
        "    xes, yes = clean_data(df)\n",
        "    display_data(xes, yes)"
      ]
    }
  ],
  "metadata": {
    "kernelspec": {
      "display_name": "Python 3 (ipykernel)",
      "language": "python",
      "name": "python3"
    },
    "language_info": {
      "codemirror_mode": {
        "name": "ipython",
        "version": 3
      },
      "file_extension": ".py",
      "mimetype": "text/x-python",
      "name": "python",
      "nbconvert_exporter": "python",
      "pygments_lexer": "ipython3",
      "version": "3.12.0"
    },
    "colab": {
      "provenance": []
    }
  },
  "nbformat": 4,
  "nbformat_minor": 5
}
