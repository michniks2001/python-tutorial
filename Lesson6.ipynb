{
  "nbformat": 4,
  "nbformat_minor": 0,
  "metadata": {
    "colab": {
      "provenance": []
    },
    "kernelspec": {
      "name": "python3",
      "display_name": "Python 3"
    },
    "language_info": {
      "name": "python"
    }
  },
  "cells": [
    {
      "cell_type": "markdown",
      "source": [
        "# Lesson 6\n",
        "Last time we learned what lists are and their different operations.\n",
        "\n",
        "Now we will go into how to create and work with loops. Loops are essential in readability and efficiency of your code.\n",
        "\n",
        "There are two different kinds of loops in Python.\n",
        "* `for` loops\n",
        "* `while` loops\n",
        "\n",
        "We will also be looking at the `in` keyword as it is an essential part of loops.\n",
        "\n",
        "Each of these loops has its own use case and we will look at both kinds as well as their use cases."
      ],
      "metadata": {
        "id": "SrzDaJToWDzY"
      }
    },
    {
      "cell_type": "markdown",
      "source": [
        "## `while` Loops\n",
        "\n",
        "The `while` loop is the simplest one to understand. Essentially the way you would want to interpret this type of loop is:\n",
        "\n",
        "\"While a condition is **true** do the following.\""
      ],
      "metadata": {
        "id": "OMHTCXhJW939"
      }
    },
    {
      "cell_type": "code",
      "execution_count": null,
      "metadata": {
        "id": "-uaF5l__WB88"
      },
      "outputs": [],
      "source": [
        "counter = 0\n",
        "\n",
        "while counter < 10:\n",
        "  counter += 1                    # Can also be written as counter = counter + 1\n",
        "  print(f'Counter: {counter}!')"
      ]
    },
    {
      "cell_type": "markdown",
      "source": [
        "Keep in mind the counter variable being incremented here. If I don't increment counter, the loop will run infinitely, and we don't want that.\n",
        "\n",
        "We can also use the `break` keyword to exit a loop and the `continue` keyword to go on to the next iteration of the loop if certain conditions are satisfied. Notice in the code below how we use each of these keywords, in conjunction with conditional statements to work through the flow of the program."
      ],
      "metadata": {
        "id": "d-Z0sopwX7pC"
      }
    },
    {
      "cell_type": "code",
      "source": [
        "while True:\n",
        "  name = input(\"Enter your name: \")\n",
        "\n",
        "  if name.isdigit():                      # The isdigit() string method checks if the string is a number\n",
        "    print('Invalid input, try again!')\n",
        "    continue\n",
        "  else:\n",
        "    print(f'Hello, {name}!')\n",
        "    break"
      ],
      "metadata": {
        "id": "LSx539jYYj0j"
      },
      "execution_count": null,
      "outputs": []
    },
    {
      "cell_type": "markdown",
      "source": [
        "## The `in` Keyword\n",
        "\n",
        "Before we get on to `for` loops, I want to go over the `in` keyword briefly. The `in` keyword is used as a conditional operation to check whether something belongs somewhere. The example below will show us one example of a use for the keyword. Feel free to mess around with the code that I have provided below for you."
      ],
      "metadata": {
        "id": "lbgcnM3pZ5Kk"
      }
    },
    {
      "cell_type": "code",
      "source": [
        "lst = [1, 2, 3, 4, 5]\n",
        "\n",
        "num1 = 3\n",
        "num2 = 6\n",
        "\n",
        "if num1 in lst:\n",
        "  print(f'{num1} is in the list')\n",
        "else:\n",
        "  print(f'{num1} is not in the list')\n",
        "\n",
        "if num2 in lst:\n",
        "  print(f'{num2} is in the list')\n",
        "else:\n",
        "  print(f'{num2} is not in the list')"
      ],
      "metadata": {
        "id": "QkN35rxraNwt"
      },
      "execution_count": null,
      "outputs": []
    },
    {
      "cell_type": "markdown",
      "source": [
        "## The `for` Loop\n",
        "\n",
        "The reason behind my introduction of the `in` keyword is that it is a significant portion of the way that the `for` loop works. Let's create a `for` loop using the `range()` function that I went over in the previous lesson."
      ],
      "metadata": {
        "id": "BMd5DSCVbBuM"
      }
    },
    {
      "cell_type": "code",
      "source": [
        "for i in range(1, 11):\n",
        "  print(f'Step: {i}')"
      ],
      "metadata": {
        "id": "PE-eYPhRbkNh"
      },
      "execution_count": null,
      "outputs": []
    },
    {
      "cell_type": "markdown",
      "source": [
        "If we go back to my explanation of the range function, we know that the range is just a list of numbers that start at the start portion of the function, and end at the largest number less than the stop portion of the function. Which means we can use the function as a way to iterate through a list. Effectively, we created a list for us to iterate through and then iterate through it.\n"
      ],
      "metadata": {
        "id": "dMjFDJZLbzGG"
      }
    },
    {
      "cell_type": "code",
      "source": [
        "for i in [1, 2, 3, 4, 5, 6, 7, 8, 9, 10]:\n",
        "  print(f'Step: {i}')"
      ],
      "metadata": {
        "id": "cmk6TkrQdg24"
      },
      "execution_count": null,
      "outputs": []
    },
    {
      "cell_type": "markdown",
      "source": [
        "\n",
        "Let's use the list of students from our school and iterate through each student in our roll."
      ],
      "metadata": {
        "id": "IW1DvohbdvNO"
      }
    },
    {
      "cell_type": "code",
      "source": [
        "students = [\n",
        "    \"Spongebob Squarepants\",\n",
        "    \"Patrick Star\",\n",
        "    \"Squidward Tentacles\",\n",
        "    \"Sandy Cheeks\",\n",
        "    \"Eugene Krabs\"\n",
        "]\n",
        "\n",
        "for student in students:\n",
        "  print(f'Student: {student}')"
      ],
      "metadata": {
        "id": "TP6vo0N9cUtm"
      },
      "execution_count": null,
      "outputs": []
    },
    {
      "cell_type": "markdown",
      "source": [
        "Notice that in our code, the student variable is tied to the entry in the list itself. If we want the index and the entry, we use the `enumerate()` function, which allows us to use the index and entry when iterating through the list. This way we can accurately print out an attendance sheet for the students in our class."
      ],
      "metadata": {
        "id": "DttnjlQWcfLW"
      }
    },
    {
      "cell_type": "code",
      "source": [
        "students = [\n",
        "    \"Spongebob Squarepants\",\n",
        "    \"Patrick Star\",\n",
        "    \"Squidward Tentacles\",\n",
        "    \"Sandy Cheeks\",\n",
        "    \"Eugene Krabs\"\n",
        "]\n",
        "\n",
        "for index, student in enumerate(students):\n",
        "  print(f'Student {index + 1}: {student}')"
      ],
      "metadata": {
        "id": "urmV3E_mc1tw"
      },
      "execution_count": null,
      "outputs": []
    },
    {
      "cell_type": "markdown",
      "source": [
        "The way that the `enumerate()` function works is that it returns a tuple (a group of values) and unpacks it similarly to how a list can be unpacked (see previous lesson for unpacking definition). Let's take a look at what happens when we print out an enumerated list. Remeber to cast the enumerate function to a list object to see its contents"
      ],
      "metadata": {
        "id": "8NlRBT2CeWIr"
      }
    },
    {
      "cell_type": "code",
      "source": [
        "students = [\n",
        "    \"Spongebob Squarepants\",\n",
        "    \"Patrick Star\",\n",
        "    \"Squidward Tentacles\",\n",
        "    \"Sandy Cheeks\",\n",
        "    \"Eugene Krabs\"\n",
        "]\n",
        "\n",
        "print(list(enumerate(students)))"
      ],
      "metadata": {
        "id": "gl9RDkoVe0IA"
      },
      "execution_count": null,
      "outputs": []
    },
    {
      "cell_type": "markdown",
      "source": [
        "## List Comprehensions\n",
        "\n",
        "Last time we talked about generating a list of numbers by using the `range()` function and casting it to a list to retrieve our list of numbers.\n",
        "\n",
        "We can also generate some lists using a `for` loop like we will see below."
      ],
      "metadata": {
        "id": "9afgR-jzGrkO"
      }
    },
    {
      "cell_type": "code",
      "source": [
        "\"\"\"\n",
        "  How to Generate a List Using a For Loop\n",
        "  1) Create an empty list\n",
        "  2) Create a for loop that will iterate through a list or range()\n",
        "  3) Create conditions (if necessary) and append them to the list when true\n",
        "\"\"\"\n",
        "\n",
        "\n",
        "\n",
        "list_1 = []\n",
        "\n",
        "for i in range(1, 11):\n",
        "  list_1.append(i)\n",
        "\n",
        "\n",
        "list_2 = []\n",
        "\n",
        "for num in list_1:\n",
        "  if num % 2 != 0:\n",
        "    list_2.append(num)\n",
        "\n",
        "\n",
        "list_3 = []\n",
        "\n",
        "for student in [\"Spongebob Squarepants\", \"Patrick Star\", \"Squidward Tentacles\", \"Sandy Cheeks\", \"Eugene Krabs\"]:\n",
        "  if student.startswith('S'):\n",
        "    list_3.append(student)\n",
        "\n",
        "print(list_1)\n",
        "print(list_2)\n",
        "print(list_3)"
      ],
      "metadata": {
        "id": "ehdHOSE3G8fk"
      },
      "execution_count": null,
      "outputs": []
    },
    {
      "cell_type": "markdown",
      "source": [
        "As you can see we get the list from 1 to 10 using a `for` loop and using the `append()` method from last time. There is a more concise and readable way to do this as well and that is a list comprehension.\n",
        "\n",
        "Let's look at a few examples"
      ],
      "metadata": {
        "id": "OrY3AIraHKtL"
      }
    },
    {
      "cell_type": "code",
      "source": [
        "\"\"\"\n",
        "  How to Use List Comprehensions to Generate a List\n",
        "  1) Create a list variable that will have brackets\n",
        "  2) The first thing is your iterator (a pointer that will iterate through some container)\n",
        "  3) After that you create a For Loop inside of your brackets after the iterator variable is created\n",
        "  4) After you declare your for loop, you can add a condition by adding the if keyword and then stating your condition afterwards\n",
        "\"\"\"\n",
        "\n",
        "# Example 1: Generate a list of numbers from 1 to 10\n",
        "list_1 = [num for num in range(1, 11)]\n",
        "print(list_1)\n",
        "\n",
        "# Example 2: Generate another list, using the original list but this time, we will only keep odd numbers\n",
        "list_2 = [num for num in list_1 if num % 2 != 0]\n",
        "print(list_2)\n",
        "\n",
        "# Example 3: Generate a third list, using a list of students, only keep the ones that start with the letter 'S'\n",
        "list_3 = [\n",
        "    name for name in [\n",
        "      \"Spongebob Squarepants\",\n",
        "      \"Patrick Star\",\n",
        "      \"Squidward Tentacles\",\n",
        "      \"Sandy Cheeks\",\n",
        "      \"Eugene Krabs\"\n",
        "    ]\n",
        "    if name.startswith('S')]        # The startswith() function checks whether the string starts with the prefix in the parenthesis\n",
        "print(list_3)"
      ],
      "metadata": {
        "id": "mbPtGp2PHe6h"
      },
      "execution_count": null,
      "outputs": []
    },
    {
      "cell_type": "markdown",
      "source": [
        "As you can see with all 3 of these applications, we have a variable that iterates through some sort of container like a `range` object or a `list` and it allows us to generate a new list based on specific conditions. In the first example, we created a list from a `range()` funtion, which is the equalivalent of saying `list_1 = list(range(1, 11))`, we then were able to pass in that list as a variable in the second list comprehension to create a new list that filters out all of the even numbers by adding an if condition to the existing syntactical structure of the list comprehension. In the last example we created our own list inside the list comprehension and then created a list that filters out any names that don't start with the letter 'S'. We will definitely revisit list comprehensions and they will become a core part of our curriculum in the upcoming lessons."
      ],
      "metadata": {
        "id": "fXTlzLhBJdsJ"
      }
    }
  ]
}