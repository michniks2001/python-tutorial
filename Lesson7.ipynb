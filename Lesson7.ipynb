{
 "cells":[
  {
   "cell_type":"markdown",
   "source":[
    "# Lesson 7\n",
    "Last time we learned about different types of loops that allow us to run the same block of code multiple times along with list comprehensions. In this lesson, I want to go more in-depth on some functionality with strings.\n",
    "\n",
    "Strings are very similar to lists. Strings could be considered a list of characters and you can do quite a lot with strings.\n",
    "\n",
    "Let's go over some of these string operations below. You may look at some more extensive documentation here: https:\/\/www.w3schools.com\/python\/python_ref_string.asp"
   ],
   "attachments":{
    
   },
   "metadata":{
    "datalore":{
     "node_id":"V6D7NMDMVhFYrwRNKFvZyT",
     "type":"MD",
     "hide_input_from_viewers":false,
     "hide_output_from_viewers":false,
     "report_properties":{
      "rowId":"07H7r0HEcF6OxxNA7ZXGH2"
     }
    }
   }
  },
  {
   "cell_type":"markdown",
   "source":[
    "## Indexing\n",
    "\n",
    "Like lists, strings can be indexed the same way that lists can, along with slices. "
   ],
   "attachments":{
    
   },
   "metadata":{
    "datalore":{
     "node_id":"MeMse4bxhXQNDfoSP4U574",
     "type":"MD",
     "hide_input_from_viewers":false,
     "hide_output_from_viewers":false,
     "report_properties":{
      "rowId":"k2r7qIxU6XWM70Uj0EZVHO"
     }
    }
   }
  },
  {
   "cell_type":"code",
   "source":[
    "s = \"Hello, my name is Sam\"\n",
    "\n",
    "# Get character at index 2\n",
    "print(s[2])\n",
    "\n",
    "# Get charcaters at indicies 2-9\n",
    "print(s[2:9])\n",
    "\n",
    "# Get every other character\n",
    "print(s[::2])\n",
    "\n",
    "# String in reverse\n",
    "print(s[::-1])"
   ],
   "execution_count":14,
   "outputs":[
    {
     "name":"stdout",
     "text":[
      "l\n",
      "llo, my\n",
      "Hlo ynm sSm\n",
      "maS si eman ym ,olleH\n"
     ],
     "output_type":"stream"
    }
   ],
   "metadata":{
    "datalore":{
     "node_id":"J2r6fAjUKBQBzOs3atOZnK",
     "type":"CODE",
     "hide_input_from_viewers":false,
     "hide_output_from_viewers":true,
     "report_properties":{
      "rowId":"1P3tuIvWNHZHSVCpAXVDXs"
     }
    }
   }
  },
  {
   "cell_type":"markdown",
   "source":[
    "## String Functions\n",
    "\n",
    "Strings also have a variety of different functions which can modify the string. I will list some below, and there is a full list of what you can do with strings here: https:\/\/www.w3schools.com\/python\/python_ref_string.asp. \n",
    "\n",
    "*Please note that these methods do not change the original string, but instead return a new value*"
   ],
   "attachments":{
    
   },
   "metadata":{
    "datalore":{
     "node_id":"NSlJSS5zZLguZhnynvRGsY",
     "type":"MD",
     "hide_input_from_viewers":false,
     "hide_output_from_viewers":false,
     "report_properties":{
      "rowId":"PnEQE4o9yvPgcr3IkHqqXS",
      "x":0,
      "width":1,
      "height":8,
      "isDynamicHeight":false
     }
    }
   }
  },
  {
   "cell_type":"code",
   "source":[
    "s = \"this IS a STRING\"\n",
    "\n",
    "# This function capitalizes the first character the string and lowercases everything else\n",
    "print('This is the capitalized version of s:', s.capitalize())\n",
    "\n",
    "# This function counter the number of times that a character occurs within the string\n",
    "print(\"How many 's' characters are in the string:\", s.count('s'))\n",
    "\n",
    "# These functions return the index of a given character\n",
    "print(\"Find 's': \", s.find('s'))\n",
    "print(\"Index of 's'\", s.index('s'))\n",
    "\n",
    "# This function converts the string into lowercase\n",
    "print('Lowercase of s: ', s.lower())\n",
    "\n",
    "# This function converts the string into uppercase\n",
    "print('Lowercase of s: ', s.upper())\n",
    "\n",
    "# This function removes the character you give it and splits it into a list\n",
    "# If no character is given then spaces are removed\n",
    "print('No spaces:', s.split())\n",
    "print(\"No 's':\", s.split('s'))\n",
    "\n",
    "# This function swaps the case of each character\n",
    "print('Swapped cases:', s.swapcase())\n",
    "\n",
    "# We can also add two strings together. This is called string concatenation\n",
    "s2 = \"This is another string :)\"\n",
    "print(s + ' ' + s2)"
   ],
   "execution_count":15,
   "outputs":[
    {
     "name":"stdout",
     "text":[
      "This is the capitalized version of s: This is a string\n",
      "How many 's' characters are in the string: 1\n",
      "Find 's':  3\n",
      "Index of 's' 3\n",
      "Lowercase of s:  this is a string\n",
      "Lowercase of s:  THIS IS A STRING\n",
      "No spaces: ['this', 'IS', 'a', 'STRING']\n",
      "No 's': ['thi', ' IS a STRING']\n",
      "Swapped cases: THIS is A string\n"
     ],
     "output_type":"stream"
    }
   ],
   "metadata":{
    "datalore":{
     "node_id":"pGwCvJUSKN1p7xelxpplUa",
     "type":"CODE",
     "hide_input_from_viewers":false,
     "hide_output_from_viewers":true,
     "report_properties":{
      "rowId":"in4CywogmEOoNuj3fhOqaV"
     }
    }
   }
  },
  {
   "cell_type":"markdown",
   "source":[
    "## Iterating Through Strings\n",
    "\n",
    "Like lists, we can also iterate through a string. Let's take a look at an example of this:"
   ],
   "attachments":{
    
   },
   "metadata":{
    "datalore":{
     "node_id":"huJdXihyJlMPyNRHmau0dn",
     "type":"MD",
     "hide_input_from_viewers":true,
     "hide_output_from_viewers":true
    }
   }
  },
  {
   "cell_type":"code",
   "source":[
    "s = \"This is a string\"\n",
    "\n",
    "for i in s:\n",
    "    print(i)"
   ],
   "execution_count":16,
   "outputs":[
    {
     "name":"stdout",
     "text":[
      "T\n",
      "h\n",
      "i\n",
      "s\n",
      " \n",
      "i\n",
      "s\n",
      " \n",
      "a\n",
      " \n",
      "s\n",
      "t\n",
      "r\n",
      "i\n",
      "n\n",
      "g\n"
     ],
     "output_type":"stream"
    }
   ],
   "metadata":{
    "datalore":{
     "node_id":"8d14FmEAaqmlIIPqOTIQki",
     "type":"CODE",
     "hide_input_from_viewers":true,
     "hide_output_from_viewers":true
    }
   }
  },
  {
   "cell_type":"markdown",
   "source":[
    "So what can we infer from just running that code snippet? \n",
    "\n",
    "When iterating over a string, we iterate over each character of the string. This could be handy if we have to filter out certain characters, for example, numbers."
   ],
   "attachments":{
    
   },
   "metadata":{
    "datalore":{
     "node_id":"CDlU99BgJS1fJvpTT85bYV",
     "type":"MD",
     "hide_input_from_viewers":true,
     "hide_output_from_viewers":true
    }
   }
  },
  {
   "cell_type":"markdown",
   "source":[
    "## Special Characters\n",
    "\n",
    "Strings can contain special characters, which can help format the string. Let's take a look at some of them"
   ],
   "attachments":{
    
   },
   "metadata":{
    "datalore":{
     "node_id":"r9NaaxJ8IHunSMHut99RnW",
     "type":"MD",
     "hide_input_from_viewers":true,
     "hide_output_from_viewers":true
    }
   }
  },
  {
   "cell_type":"code",
   "source":[
    "s = \"This is a string\"\n",
    "\n",
    "print(s + '\\nThis is another string on a new line')\n",
    "\n",
    "print(s + '\\tThis is another string tabbed away')\n",
    "\n",
    "print('This is Sam\\'s string: ' + s)\n",
    "\n",
    "print(\"\\\"Success is not final, failure is not fatal: It is the courage to continue that counts.\\\" - Winston Churchill\")"
   ],
   "execution_count":24,
   "outputs":[
    {
     "name":"stdout",
     "text":[
      "This is a string\n",
      "This is another string on a new line\n",
      "This is a string\tThis is another string tabbed away\n",
      "This is Sam's string: This is a string\n",
      "\"Success is not final, failure is not fatal: It is the courage to continue that counts.\" - Winston Churchill\n"
     ],
     "output_type":"stream"
    }
   ],
   "metadata":{
    "datalore":{
     "node_id":"WPBsZ2BhiB12iToWiy7wtW",
     "type":"CODE",
     "hide_input_from_viewers":true,
     "hide_output_from_viewers":true
    }
   }
  },
  {
   "cell_type":"markdown",
   "source":[
    "## Multiline Strings\n",
    "\n",
    "We have already seen what multiline strings look like through the use of docstrings (`\"\"\" docstring \"\"\"`), but we can actually use them as values as well."
   ],
   "attachments":{
    
   },
   "metadata":{
    "datalore":{
     "node_id":"yZiwpIPXfm7uNhctaodkVu",
     "type":"MD",
     "hide_input_from_viewers":true,
     "hide_output_from_viewers":true
    }
   }
  },
  {
   "cell_type":"code",
   "source":[
    "multiline_string = \"\"\"This is a multiline string.\n",
    "It has many lines.\n",
    "You could fit a book in here!\"\"\""
   ],
   "execution_count":null,
   "outputs":[
    
   ],
   "metadata":{
    "datalore":{
     "node_id":"cBT5jBoKpUdkOS3v4CeXgL",
     "type":"CODE",
     "hide_input_from_viewers":true,
     "hide_output_from_viewers":true
    }
   }
  },
  {
   "cell_type":"markdown",
   "source":[
    "### Challenge\n",
    "\n",
    "As we have seen before, when we iterate through a string, we iterate through its characters but if we wanted to iterate through the lines of a multiline string how would we do that. \n",
    "\n",
    "**HINT**: The `split()` function splits on spaces automatically, how can we use this to split lines up? Look at the Special Characters section to see if there's anything we can use to split this function to iterate over lines."
   ],
   "attachments":{
    
   },
   "metadata":{
    "datalore":{
     "node_id":"vf24f319QMoEL8Qxy1WlHS",
     "type":"MD",
     "hide_input_from_viewers":true,
     "hide_output_from_viewers":true
    }
   }
  },
  {
   "cell_type":"markdown",
   "source":[
    "## Assignment\n",
    "Palindromes are words or phrases that could be written the same way backwards as forwards. How can we check to see that a string taken as an input is a palindrome? I will provide pseudocode to help you be able to complete this task if you have trouble on your own.\n",
    "\n",
    "### Guidelines\n",
    "1) The only characters that should be checked should be alphanumeric characters\n",
    "2) It should be case-insensitive (meaning case doesn't matter)\n",
    "\n",
    "*Note*: Don't be afraid to check the documentation provided earlier in the lesson for any assistance. Everything you need to be able to complete this assignment has been provided to you.\n",
    "\n",
    "```\n",
    "string = input()\n",
    "modified_string = \"\"\n",
    "\n",
    "for each character in s:\n",
    "    if character is alphanumeric:\n",
    "        modified_string = modified_string + character\n",
    "\n",
    "reveresed_string = reversed modified_string\n",
    "\n",
    "if reversed_string == modified_string print(\"Yes\")\n",
    "else print(\"No\")\n",
    "```"
   ],
   "attachments":{
    
   },
   "metadata":{
    "datalore":{
     "node_id":"tv8EiOOi5jrLgOIGdJ7bgw",
     "type":"MD",
     "hide_input_from_viewers":true,
     "hide_output_from_viewers":true
    }
   }
  }
 ],
 "metadata":{
  "kernelspec":{
   "display_name":"Python",
   "language":"python",
   "name":"python"
  },
  "datalore":{
   "computation_mode":"JUPYTER",
   "package_manager":"pip",
   "base_environment":"default",
   "packages":[
    
   ],
   "report_row_ids":[
    "07H7r0HEcF6OxxNA7ZXGH2",
    "k2r7qIxU6XWM70Uj0EZVHO",
    "1P3tuIvWNHZHSVCpAXVDXs",
    "PnEQE4o9yvPgcr3IkHqqXS",
    "in4CywogmEOoNuj3fhOqaV"
   ],
   "version":3
  }
 },
 "nbformat":4,
 "nbformat_minor":4
}