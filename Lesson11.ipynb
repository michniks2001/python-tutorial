{
  "nbformat": 4,
  "nbformat_minor": 0,
  "metadata": {
    "colab": {
      "provenance": []
    },
    "kernelspec": {
      "name": "python3",
      "display_name": "Python 3"
    },
    "language_info": {
      "name": "python"
    }
  },
  "cells": [
    {
      "cell_type": "markdown",
      "source": [
        "# Lesson 11\n",
        "In the previous lesson, we took a first look at the Pandas module and we created our first dataframe and data visualization. In this lesson we will go over the NumPy module, and create our first linear regression."
      ],
      "metadata": {
        "id": "WvE6ZK_a5nUp"
      }
    },
    {
      "cell_type": "markdown",
      "source": [
        "## Installing NumPy\n",
        "Before working with NumPy, we first have to install it into our environment. The way we do this is by running the following command:\n",
        "\n",
        "`pip install numpy`\n",
        "\n",
        "This will allow us to work with the NumPy module and perform mathematical operations faster and easier"
      ],
      "metadata": {
        "id": "vLuUIs2b5qZv"
      }
    },
    {
      "cell_type": "markdown",
      "source": [
        "## Creating a NumPy Array\n",
        "Like we have instantiated the dataframe object in the previous lesson, NumPy arrays have a similar method of instantiation. In this case, just place a list inside your parenthesis."
      ],
      "metadata": {
        "id": "gpg7TBsZ5r43"
      }
    },
    {
      "cell_type": "code",
      "source": [
        "import numpy as np\n",
        "\n",
        "one_dim_arr = np.array([1, 2, 3, 4, 5])\n",
        "\n",
        "two_dim_arr = np.array([[1, 2, 3],[4, 5, 6], [7, 8, 9]])\n",
        "\n",
        "print(one_dim_arr)\n",
        "print(two_dim_arr)"
      ],
      "metadata": {
        "id": "SVA4fTDy5tfH"
      },
      "execution_count": null,
      "outputs": []
    },
    {
      "cell_type": "markdown",
      "source": [
        "In the example above, we have a one-dimensional array (1x5 matrix) and a two-dimensional array (3x3 matrix)."
      ],
      "metadata": {
        "id": "kEVA9d1r5vSX"
      }
    },
    {
      "cell_type": "markdown",
      "source": [
        "## Additional Functionality\n",
        "NumPy arrays have much more functionality than your standard array."
      ],
      "metadata": {
        "id": "FqvcBwRr5xVX"
      }
    },
    {
      "cell_type": "markdown",
      "source": [
        "### Arithmetic Operations\n",
        "The code snippet below shows us creating a 1x5 matrix and calling it `one_dim_arr`. We are then performing scalar operations onto it by using the standard operation symbols that we are accustomed to. This also called element-wise operations, where the operations are performed on the matrix as a whole."
      ],
      "metadata": {
        "id": "ae1fjy575yZX"
      }
    },
    {
      "cell_type": "code",
      "source": [
        "import numpy as np\n",
        "\n",
        "one_dim_arr = np.array([1, 2, 3, 4, 5])\n",
        "\n",
        "# Arithmetic operations are performed on each element of the array\n",
        "print(one_dim_arr + 1)\n",
        "print(one_dim_arr - 1)\n",
        "print(one_dim_arr * 2)\n",
        "print(one_dim_arr / 2)"
      ],
      "metadata": {
        "id": "ZKM5c-SK50h_"
      },
      "execution_count": null,
      "outputs": []
    },
    {
      "cell_type": "markdown",
      "source": [
        "### Matrix Transposition\n",
        "By using the `.reshape()` method on a NumPy array, we can turn a 1x5 matrix into a 5x1 matrix. Let's take a look at the example below of this functionality"
      ],
      "metadata": {
        "id": "dsXzlT9A52F4"
      }
    },
    {
      "cell_type": "code",
      "source": [
        "import numpy as np\n",
        "\n",
        "arr = np.array([1, 2, 3, 4, 5])\n",
        "print(arr)\n",
        "print(arr.reshape(-1, 1))"
      ],
      "metadata": {
        "id": "YBDtmpiF53nQ"
      },
      "execution_count": null,
      "outputs": []
    },
    {
      "cell_type": "markdown",
      "source": [
        "### Generating a Random NumPy Array\n",
        "By using the following statement, we can create a NumPy array of random numbers. Keep in mind this will return a warning about how the function is deprecated. That just means that this function isn't being supported. There is a way we can get around the warning and that will be included below the implementation you see below."
      ],
      "metadata": {
        "id": "-d12DjCi57QQ"
      }
    },
    {
      "cell_type": "code",
      "source": [
        "import numpy as np\n",
        "\n",
        "rand_numbers = np.random.random_integers(low=0, high=10, size=5)\n",
        "print(rand_numbers)"
      ],
      "metadata": {
        "id": "h0wbNsSM589I"
      },
      "execution_count": null,
      "outputs": []
    },
    {
      "cell_type": "code",
      "source": [
        "import random\n",
        "\n",
        "# We use _ to denote an unnamed iterator, this is used so we don't use up extra memory.\n",
        "rand_numbers = np.array([random.randint(1, 10) for _ in range(5)])\n",
        "print(rand_numbers)"
      ],
      "metadata": {
        "id": "uzCA7gjJ6ATv"
      },
      "execution_count": null,
      "outputs": []
    },
    {
      "cell_type": "markdown",
      "source": [
        "## Pandas Review\n",
        "If Pandas is not installed on your environment, remember to install it using `pip install pandas` in your virtual environment.\n",
        "\n",
        "Last lesson we went over creating our first DataFrame, cleaning data, and creating a bar graph to visualize some data.\n",
        "\n",
        "We used the `.read_csv()` method to read a dataset into Python and create a dataframe out if it.\n",
        "\n",
        "We used the `.drop()` method to drop unnecessary columns in our dataframe.\n",
        "\n",
        "We used the `[]` operator to access different columns of our dataframe.\n",
        "\n",
        "We also used a `GroupBy()` object to group data into different clusters and perform operations on each group such as taking the mean.  "
      ],
      "metadata": {
        "id": "03zMhfZU6CfH"
      }
    },
    {
      "cell_type": "markdown",
      "source": [
        "## Installing Scikit-Learn\n",
        "In order to create linear regression models in our Python code, we will need to install the Scikit-Learn library onto our environment. Run the following command in your terminal:\n",
        "\n",
        "`pip install scikit-learn`"
      ],
      "metadata": {
        "id": "gvnJnJFU6D6v"
      }
    },
    {
      "cell_type": "markdown",
      "source": [
        "## Let's Create our Linear Regression Model\n",
        "First we have to define our dataframe, which will contain our dependent variables and independent variables.\n",
        "\n",
        "For this example we will simply work with random values. We will also use an example in which we will import a csv file containing data in which we will have to clean the data before creating a regression."
      ],
      "metadata": {
        "id": "GNiAymST6FSP"
      }
    },
    {
      "cell_type": "markdown",
      "source": [
        "### Step 1: Generating our data\n",
        "For this example we will use the random library to create our dependent variable, in this case it will be profit. Our independent variable will be months, in this case 1-12. Let's create the data frame using a dictionary in which the names of our columns will be Months and Profits respectively, and they will contain the data associated with them."
      ],
      "metadata": {
        "id": "yktWb03o6HL_"
      }
    },
    {
      "cell_type": "code",
      "source": [
        "import random\n",
        "import pandas as pd\n",
        "from sklearn.linear_model import LinearRegression\n",
        "import matplotlib.pyplot as plt\n",
        "\n",
        "\n",
        "\"\"\"\n",
        "Months is a list of months ranging from 1-12\n",
        "\"\"\"\n",
        "months = [_ for _ in range(1, 13)]\n",
        "\n",
        "\"\"\"\n",
        "Profits is a list of integers ranging from 4000-5000\n",
        "to show some amount of profit a company makes within\n",
        "a year\n",
        "\"\"\"\n",
        "profits = [random.randint(4000, 5000) for _ in range(12)]\n",
        "\n",
        "\n",
        "\"\"\"\n",
        "df is our DataFrame, it contains two columns:\n",
        "    * Month\n",
        "    * Profit\n",
        "such that each row is some profit in a given month\n",
        "\"\"\"\n",
        "df = pd.DataFrame({\n",
        "    \"Month\": months,\n",
        "    \"Profit\": profits\n",
        "})\n",
        "\n",
        "\"\"\"\n",
        "We will print our dataframe below to show we have a\n",
        "populated dataframe\n",
        "\"\"\"\n",
        "print(df)"
      ],
      "metadata": {
        "id": "PW6KSst96Jv3"
      },
      "execution_count": null,
      "outputs": []
    },
    {
      "cell_type": "markdown",
      "source": [
        "### Step 2: Calculating our Linear Regression Model\n",
        "Now that we have a dataframe to work with, let's compute the linear regression for our data."
      ],
      "metadata": {
        "id": "hCL5sJ646Llf"
      }
    },
    {
      "cell_type": "code",
      "source": [
        "\"\"\"\n",
        "We can use the [] operator to isolate each column into a separate variable for us to create our model.\n",
        "\n",
        "The [] returns a Series. We can see this by printing the type of an isolated column\n",
        "\"\"\"\n",
        "print(type(df[\"Month\"]))\n",
        "\n",
        "\"\"\"\n",
        "The LinearRegression() object uses NumPy arrays to perform operations. The way we can create NumPy arrays\n",
        "from our isolated columns is by calling .values on our Series\n",
        "\"\"\"\n",
        "month = df[\"Month\"].values\n",
        "profit = df[\"Profit\"].values\n",
        "\n",
        "\"\"\"\n",
        "Let's declare a variable called model, which will instantiate a LinearRegression object.\n",
        "\"\"\"\n",
        "model = LinearRegression()\n",
        "\n",
        "\"\"\"\n",
        "To create a Regression fit we use the .fit() method on our model variable. We also have to use .reshape() on our months\n",
        "to turn it into a 2D numpy array, allowing for the fit to function. Your program will return an exception otherwise.\n",
        "\"\"\"\n",
        "model = model.fit(month.reshape(-1, 1), profit)\n",
        "\n",
        "\"\"\"\n",
        "Let's begin preparation to visualize our data as a scatter plot and regression line. To create our scatter\n",
        "plot, we will use plt.plot() to plot the raw data.\n",
        "\"\"\"\n",
        "plt.scatter(month, profit, label=\"Raw Data\", color=\"blue\")\n",
        "\n",
        "\"\"\"\n",
        "To get our regression line, we will use the .predict() method to predict the line of best fit for our data. Once again we\n",
        "will have to use the .reshape() method to perform this operation.\n",
        "\"\"\"\n",
        "fit_line = model.predict(month.reshape(-1, 1))\n",
        "\n",
        "\"\"\"\n",
        "Let's plot the regression line using plt.plot(). This will create a line plot of our data.\n",
        "\"\"\"\n",
        "plt.plot(month, fit_line, label=\"Regression Line\", color=\"red\")\n",
        "\n",
        "\"\"\"\n",
        "Like last time, we will add some labels for the aesthetics.\n",
        "We will also include a legend for our graph.\n",
        "\"\"\"\n",
        "plt.title(\"Regression for Profits\")\n",
        "plt.xlabel(\"Month\")\n",
        "plt.ylabel(\"Profit\")\n",
        "plt.legend()\n",
        "plt.show()"
      ],
      "metadata": {
        "id": "TQigApQe6NLX"
      },
      "execution_count": null,
      "outputs": []
    },
    {
      "cell_type": "markdown",
      "source": [
        "Let's put it all together, this time reading a csv file instead"
      ],
      "metadata": {
        "id": "JtmlznOz6P7v"
      }
    },
    {
      "cell_type": "code",
      "source": [
        "import pandas as pd\n",
        "import matplotlib.pyplot as plt\n",
        "from sklearn.linear_model import LinearRegression\n",
        "\n",
        "df = pd.read_csv(\"sales.csv\")\n",
        "\n",
        "# df has columns Month and Sales, separate them into their own np.array() objects\n",
        "months = df[\"Month\"].values\n",
        "sales = df[\"Sales\"].values\n",
        "\n",
        "# We can stack the regression calculation by chaining method calls\n",
        "model = LinearRegression().fit(months.reshape(-1, 1), sales).predict(months.reshape(-1, 1))\n",
        "\n",
        "# Add the scatter plot of raw data and line plot of regression line to the screen plus labels and legend\n",
        "plt.scatter(months.reshape(-1, 1), sales, label=\"Raw Data\", color=\"red\")\n",
        "plt.plot(months, model, label=\"Linear Regression\", color=\"green\")\n",
        "plt.legend()\n",
        "plt.xlabel(\"Month\")\n",
        "plt.ylabel(\"Sales\")\n",
        "plt.show()"
      ],
      "metadata": {
        "id": "WD9Jt34o6SZn"
      },
      "execution_count": null,
      "outputs": []
    }
  ]
}