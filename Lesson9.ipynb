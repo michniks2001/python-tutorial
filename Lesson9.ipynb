{
  "nbformat": 4,
  "nbformat_minor": 0,
  "metadata": {
    "colab": {
      "provenance": []
    },
    "kernelspec": {
      "name": "python3",
      "display_name": "Python 3"
    },
    "language_info": {
      "name": "python"
    }
  },
  "cells": [
    {
      "cell_type": "markdown",
      "source": [
        "# Lesson 9\n",
        "In the previous lesson, we learned how to use external modules/libraries as well as create our own functions. In this lesson, we will cover different types of built-in data structures that Python has to offer in more detail. We will also go over Python's `random` library, as it is a very useful module to know for applications in data science and statistics.\n",
        "\n",
        "There are 4 main built-in data structures in Python. These are:\n",
        "1) List\n",
        "2) Tuple\n",
        "3) Dictionary\n",
        "4) Set\n",
        "\n",
        "Each of these data structures behaves differently and has many different uses. We won't be covering much of lists in this lesson as those have been covered in a previous lesson."
      ],
      "metadata": {
        "id": "jzudAOSf5R7U"
      }
    },
    {
      "cell_type": "markdown",
      "source": [
        "## Extra Background for Lists\n",
        "### The `del` Keyword\n",
        "The `del` keyword allows us to delete values based on index, slices. It also allows us to delete values associated to variables."
      ],
      "metadata": {
        "id": "9KLDTNj55XOc"
      }
    },
    {
      "cell_type": "code",
      "execution_count": null,
      "metadata": {
        "id": "iEWBlaD45P62"
      },
      "outputs": [],
      "source": [
        "# Given the list of students:\n",
        "students = [\n",
        "    \"Spongebob Squarepants\",\n",
        "    \"Patrick Star\",\n",
        "    \"Squidward Tentacles\",\n",
        "    \"Eugene Krabs\",\n",
        "    \"Sandy Cheeks\",\n",
        "    \"Sheldon Plankton\",\n",
        "    \"Larry Lobster\",\n",
        "    \"Fred Fish\"\n",
        "]\n",
        "\n",
        "# Our Attendance Sheet may look like this:\n",
        "print(\"Roll:\")\n",
        "for index, student in enumerate(students):\n",
        "    print(f'{index}: {student}')\n",
        "\n",
        "# Let's say the last three students decided they don't want to attend class anymore and drop out, we can show this as\n",
        "del students[-1:-3:-1]\n",
        "\n",
        "print(\"Roll:\")\n",
        "for index, student in enumerate(students):\n",
        "    print(f'{index}: {student}')\n",
        "\n",
        "\n",
        "# Let's say now that the semester has ended, and we have to clear our roll.\n",
        "# We can use students.clear(), but that will just leave us with an empty list.\n",
        "# We will use the del keyword to delete the list itself.\n",
        "\n",
        "del students\n",
        "\n",
        "# Try referencing the students variable below, and see what happens:\n",
        "# print(students)"
      ]
    },
    {
      "cell_type": "markdown",
      "source": [
        "### Key Word\n",
        "**Immutable**: can not change"
      ],
      "metadata": {
        "id": "Cl8WKI_75ex0"
      }
    },
    {
      "cell_type": "markdown",
      "source": [
        "## Tuples\n",
        "A tuple is a data structure that is similar to a list, but is immutable and may contain different types of data within it."
      ],
      "metadata": {
        "id": "SgBZMut45grU"
      }
    },
    {
      "cell_type": "code",
      "source": [
        "my_tuple = 4, \"hello\", 10.2\n",
        "print(my_tuple)"
      ],
      "metadata": {
        "id": "DiD_389Y5jSb"
      },
      "execution_count": null,
      "outputs": []
    },
    {
      "cell_type": "markdown",
      "source": [
        "They can be indexed like a list"
      ],
      "metadata": {
        "id": "ITZuWn235l0E"
      }
    },
    {
      "cell_type": "code",
      "source": [
        "my_tuple = 4, \"hello\", 10.2\n",
        "\n",
        "\n",
        "print(my_tuple[0])\n",
        "print(my_tuple[1])\n",
        "print(my_tuple[2])"
      ],
      "metadata": {
        "id": "EWup0wbA5olM"
      },
      "execution_count": null,
      "outputs": []
    },
    {
      "cell_type": "markdown",
      "source": [
        "They can also be used as a quick way to store values in multiple variables"
      ],
      "metadata": {
        "id": "gpbN8u0K5rnk"
      }
    },
    {
      "cell_type": "code",
      "source": [
        "my_tuple = 4, \"hello\", 10.2\n",
        "\n",
        "num, word, flt = my_tuple"
      ],
      "metadata": {
        "id": "4ARQdadj5uK7"
      },
      "execution_count": null,
      "outputs": []
    },
    {
      "cell_type": "markdown",
      "source": [
        "However, because they are immutable, you cannot change any values within the tuple.\n"
      ],
      "metadata": {
        "id": "RAwM8Qru5z-s"
      }
    },
    {
      "cell_type": "code",
      "source": [
        "my_tuple = 4, \"hello\", 10.2\n",
        "\n",
        "my_tuple[0] = 10"
      ],
      "metadata": {
        "id": "o0Rzd9ja50q9"
      },
      "execution_count": null,
      "outputs": []
    },
    {
      "cell_type": "markdown",
      "source": [
        "You will notice that if you attempt to run the cell above, an exception will be thrown, because the values of a tuple are immutable. That being said, you can reassign values in a tuple."
      ],
      "metadata": {
        "id": "RMqXQ7J457k0"
      }
    },
    {
      "cell_type": "code",
      "source": [
        "my_tuple = 4, \"hello\", 10.2\n",
        "print(my_tuple)\n",
        "\n",
        "my_tuple = 10, \"bye\", 12.5\n",
        "print(my_tuple)"
      ],
      "metadata": {
        "id": "9ubJkJIu6F6V"
      },
      "execution_count": null,
      "outputs": []
    },
    {
      "cell_type": "markdown",
      "source": [
        "### Tuple Functions\n",
        "Tuples also have their own functions. They are as follows:"
      ],
      "metadata": {
        "id": "ltvzZnsi6Nyc"
      }
    },
    {
      "cell_type": "code",
      "source": [
        "my_tuple = 10, \"hello\", 30.8\n",
        "\n",
        "# the count() function counts how many times a value appears in the tuple\n",
        "print(my_tuple.count(10))\n",
        "\n",
        "# the index() function returns the index of a value\n",
        "print(my_tuple.index(10))"
      ],
      "metadata": {
        "id": "WcnFnqOJ6Oy0"
      },
      "execution_count": null,
      "outputs": []
    },
    {
      "cell_type": "markdown",
      "source": [
        "## Sets\n",
        "A set is an unordered, immutable list of values in which all the values only appear once. Let's declare a set below"
      ],
      "metadata": {
        "id": "dOCGtb_j6SE7"
      }
    },
    {
      "cell_type": "code",
      "source": [
        "my_set = {\"apple\", \"banana\", \"cherry\", \"apple\"}\n",
        "print(my_set)"
      ],
      "metadata": {
        "id": "KIEL7Yj36YSU"
      },
      "execution_count": null,
      "outputs": []
    },
    {
      "cell_type": "markdown",
      "source": [
        "If you run the code cell above, you will see that even though the element \"apple\" appears inside the curly brackets twice, when printed it appears once.\n",
        "\n",
        "Like tuples, sets are also immutable. This one might be a bit more obvious as to why."
      ],
      "metadata": {
        "id": "Jx2KPOrQ6bGc"
      }
    },
    {
      "cell_type": "code",
      "source": [
        "my_set = {1, 2, 3, 4, 5}\n",
        "my_set[0] = 10              # This statement is illegal, an exception will be thrown"
      ],
      "metadata": {
        "id": "59ZrhmQe6c88"
      },
      "execution_count": null,
      "outputs": []
    },
    {
      "cell_type": "markdown",
      "source": [
        "### Set Functions and Additional Functionality\n",
        "Sets have their own set of functions that apply to them and allow for some more functionality than your standard list or tuple. Let's look at some cool functionality of sets."
      ],
      "metadata": {
        "id": "1DY-TK5T6efE"
      }
    },
    {
      "cell_type": "code",
      "source": [
        "# When converting a string to a set, the set will remove duplicate characters\n",
        "\n",
        "my_string = \"Hello. My name is Sam\"\n",
        "print(set(my_string))"
      ],
      "metadata": {
        "id": "vTPAQGSS6gHd"
      },
      "execution_count": null,
      "outputs": []
    },
    {
      "cell_type": "markdown",
      "source": [
        "Like strings and lists, you can check whether something is in the set with the `in` keyword\n"
      ],
      "metadata": {
        "id": "_gRkNfF66kKV"
      }
    },
    {
      "cell_type": "code",
      "source": [
        "fruit_basket = {\"apple\", \"banana\", \"orange\", \"peach\", \"apple\", \"apple\", \"peach\"}\n",
        "print(\"apple\" in fruit_basket)"
      ],
      "metadata": {
        "id": "elPdZn116mj0"
      },
      "execution_count": null,
      "outputs": []
    },
    {
      "cell_type": "markdown",
      "source": [
        "You can also use set comprehensions, like list comprehensions"
      ],
      "metadata": {
        "id": "1k9zeILP6n_U"
      }
    },
    {
      "cell_type": "code",
      "source": [
        "my_set = {i for i in range(10) if i % 2 == 0}"
      ],
      "metadata": {
        "id": "2TfJEfZ06qoj"
      },
      "execution_count": null,
      "outputs": []
    },
    {
      "cell_type": "markdown",
      "source": [
        "Some functions that belong to sets are"
      ],
      "metadata": {
        "id": "0uX9wqdN6tgU"
      }
    },
    {
      "cell_type": "code",
      "source": [
        "fruit_basket = {\"apple\", \"banana\", \"orange\", \"peach\", \"apple\", \"apple\", \"peach\"}\n",
        "\n",
        "\n",
        "# Adds an element to the set:\n",
        "fruit_basket.add(\"grapefruit\")\n",
        "\n",
        "\n",
        "another_basket = {\"apple\", \"banana\", \"orange\", \"nectarine\"}\n",
        "# Returns a set of the differences between the two sets\n",
        "print(fruit_basket.difference(another_basket))\n",
        "\n",
        "\n",
        "# Removes an item from the set\n",
        "fruit_basket.discard(\"grapefruit\")\n",
        "\n",
        "\n",
        "# Returns a set that is the intersection of two or more sets\n",
        "print(fruit_basket.intersection(another_basket))\n",
        "\n",
        "\n",
        "# Returns whether two sets have an intersection\n",
        "print(fruit_basket.isdisjoint(another_basket))"
      ],
      "metadata": {
        "id": "CkZBIrxg6uHc"
      },
      "execution_count": null,
      "outputs": []
    },
    {
      "cell_type": "markdown",
      "source": [
        "All methods that belong to the set data structure can be found here: https://www.w3schools.com/python/python_ref_set.asp"
      ],
      "metadata": {
        "id": "s8TNXgPj6wbk"
      }
    },
    {
      "cell_type": "markdown",
      "source": [
        "## Dictionaries\n",
        "A dictionary is a data structure that maps together two types of data, with one being a key and the other being a value. Let's define a dictionary that represents a student at a school."
      ],
      "metadata": {
        "id": "LpCWG9EP6yhM"
      }
    },
    {
      "cell_type": "code",
      "source": [
        "student = {\n",
        "    \"id\": 1036513,\n",
        "    \"first_name\": \"Spongebob\",\n",
        "    \"last_name\": \"Squarepants\",\n",
        "    \"classes\": [\n",
        "        \"Mathematics\",\n",
        "        \"Science\",\n",
        "        \"Art\",\n",
        "        \"Driving\"\n",
        "    ],\n",
        "    \"report_card\": {\n",
        "        \"Mathematics\": 90,\n",
        "        \"Science\": 80,\n",
        "        \"Art\": 100,\n",
        "        \"Driving\": 6\n",
        "    }\n",
        "}\n",
        "\n",
        "# There are a lot of components to this student dictionary, but in reality it's not as complicated as it may seem at first glance.\n",
        "# The keys are represented as a string, which describes a piece of data that relates to the student.\n",
        "# Let's go over what each key means and the data that they represent.\n",
        "\n",
        "# The key \"id\" references the student's id, which is represented by an integer\n",
        "print(f'Student: {student[\"id\"]}')\n",
        "\n",
        "\n",
        "# The keys \"first_name\" and \"last_name\" represent the student's name, which is also a string\n",
        "print(f'Student Name: {student[\"last_name\"]}, {student[\"first_name\"]}')\n",
        "\n",
        "\n",
        "# The key \"classes\" represents the classes in this student's schedule, which is represented as a list\n",
        "print(\"\\nClasses:\")\n",
        "for index, cls in enumerate(student[\"classes\"]):\n",
        "    print(f\"\\t{index + 1}: {cls}\")\n",
        "\n",
        "\n",
        "# The key \"report_card\" represents this student's latest report card.\n",
        "# The report card is represented as a dictionary in which the keys are the classes and the values are integer grades\n",
        "print(\"\\nReport Card:\")\n",
        "for cls, grade in student[\"report_card\"].items():\n",
        "    print(f'\\t{cls}: {grade}')"
      ],
      "metadata": {
        "id": "pBby5Z9w60Ij"
      },
      "execution_count": null,
      "outputs": []
    },
    {
      "cell_type": "markdown",
      "source": [
        "Dictionaries also have comprehensions, like lists and sets. They do look slightly different however. Let's assign a list of students a random integer as their student id using Python's built-in `random` library."
      ],
      "metadata": {
        "id": "hUIajDeV7CzM"
      }
    },
    {
      "cell_type": "code",
      "source": [
        "import random\n",
        "\n",
        "students = [\n",
        "    \"Spongebob Squarepants\",\n",
        "    \"Squidward Tentacles\",\n",
        "    \"Patrick Star\",\n",
        "    \"Eugene Krabs\",\n",
        "    \"Sandy Cheeks\"\n",
        "]\n",
        "\n",
        "# Here, the keys of the dictionary will be the students in the list provided, while the values are a\n",
        "# random 5-digit number provided by Python's \"random\" library by using the randint() function.\n",
        "student_ids = {student: random.randint(10000, 99999) for student in students}\n",
        "\n",
        "for student, student_id in student_ids.items():\n",
        "    print(f'{student}: {student_id}')"
      ],
      "metadata": {
        "id": "ZfsNzHer67Wj"
      },
      "execution_count": null,
      "outputs": []
    },
    {
      "cell_type": "markdown",
      "source": [
        "### Dictionary Functions\n",
        "Dictionaries have their own functions, that are exclusive to them given the nature of this particular data structure. Let's take a look at some below   "
      ],
      "metadata": {
        "id": "CRBz37Qp7Jmk"
      }
    },
    {
      "cell_type": "code",
      "source": [
        "# We can create a dictionary from a list of tuples that each contain keys-value pairs. Let's create a fruit basket using this method\n",
        "fruit_basket = dict([\n",
        "    (\"apple\", 2),\n",
        "    (\"orange\", 5),\n",
        "    (\"banana\", 5)\n",
        "])\n",
        "\n",
        "for fruit, quantity in fruit_basket.items():\n",
        "    print(f'{fruit}: {quantity}')\n",
        "\n",
        "# We can also create a dictionary from keyword arguments (**kwargs) with the dict function as well\n",
        "vegetable_basket = dict(cucumber=8, tomato=10, squash=3, zucchini=6)\n",
        "for vegetable, quantity in vegetable_basket.items():\n",
        "    print(f'{vegetable}: {quantity}')\n",
        "\n",
        "# As previously shown, we can use the items() function to separate the keys from their values and use them individually\n",
        "\n",
        "# You can grab the keys only by using the keys() function\n",
        "for fruit in fruit_basket.keys():\n",
        "    print(fruit)\n",
        "\n",
        "# You can grab the values by using the values() function\n",
        "for quantity in fruit_basket.values():\n",
        "    print(quantity)\n"
      ],
      "metadata": {
        "id": "wrmu5o3_7Kl8"
      },
      "execution_count": null,
      "outputs": []
    },
    {
      "cell_type": "markdown",
      "source": [
        "A list of all the methods for dictionaries can be found here: https://www.w3schools.com/python/python_ref_dictionary.asp"
      ],
      "metadata": {
        "id": "i-jQNPQr7OYT"
      }
    },
    {
      "cell_type": "markdown",
      "source": [
        "## Python's `random` Library\n",
        "Python has a built-in library for pseudo-random number generation. As most people know, random number generation is just simply impossible in computer programming because something like randomness can't really be programmed if it is algorithmic in nature, this library should provide some form of randomness for whatever purposes are required.\n",
        "\n",
        "Let's take a look at some of the functionality of the `random` library."
      ],
      "metadata": {
        "id": "MGfgRTzW7Pqj"
      }
    },
    {
      "cell_type": "code",
      "source": [
        "import random\n",
        "\n",
        "# To generate a number from a range, use randrange()\n",
        "rand_number = random.randrange(10)\n",
        "print(rand_number)\n",
        "\n",
        "# Like the range function, you can use the start, stop, step format of the range function\n",
        "rand_number = random.randrange(0, 10, 2)\n",
        "print(rand_number)\n",
        "\n",
        "# To generate a random integer within a given range inclusively you use randint(a, b)\n",
        "rand_number = random.randint(10, 20)\n",
        "print(rand_number)\n",
        "\n",
        "\n",
        "# You can also have some fun with lists using the random library. Let's look at some of that functionality as well\n",
        "socks = [\n",
        "    \"blue\",\n",
        "    \"red\",\n",
        "    \"green\",\n",
        "    \"white\",\n",
        "    \"black\",\n",
        "    \"yellow\",\n",
        "    \"pink\",\n",
        "]\n",
        "\n",
        "# choice() returns a random element from a list\n",
        "random_sock = random.choice(socks)\n",
        "print(random_sock)\n",
        "\n",
        "\n",
        "# choices() returns a list of random elements chosen from a list with replacement\n",
        "sock_drawer = random.choices(socks, k=20)\n",
        "for sock, quantity in {sock: sock_drawer.count(sock) for sock in sock_drawer}.items():\n",
        "    print(f'{sock}: {quantity}')\n",
        "\n",
        "# shuffle() will as the name implies, shuffle the list in place\n",
        "nums = [1, 2, 3, 4, 5]\n",
        "print(f'Before shuffle: {nums}')\n",
        "random.shuffle(nums)\n",
        "print(f'After shuffle: {nums}')\n",
        "\n",
        "\n",
        "# sample() will return a list of unique elements chosen from a population sequence\n",
        "# Let's take a random sample of students based on their grade\n",
        "grades = [\n",
        "    \"freshman\",\n",
        "    \"sophomore\",\n",
        "    \"junior\",\n",
        "    \"senior\"\n",
        "]\n",
        "\n",
        "samples = random.sample(population=grades, counts=[400, 400, 400, 400], k=100)\n",
        "\n",
        "# Now let's print a dictionary representation of our sample similarly to how we printed our sock drawer\n",
        "for grade, sample in {grade: samples.count(grade) for grade in samples}.items():\n",
        "    print(f'{grade}: {sample}')"
      ],
      "metadata": {
        "id": "PYZROCwD7Rkl"
      },
      "execution_count": null,
      "outputs": []
    },
    {
      "cell_type": "markdown",
      "source": [
        "These are just some basic functions for the `random` library. There are also statistical functions for this library like discrete probability, and gaussian statistics as well.\n",
        "\n",
        "For all documentation regarding the `random` library, visit this link: https://docs.python.org/3/library/random.html"
      ],
      "metadata": {
        "id": "53bbu32c7Ues"
      }
    },
    {
      "cell_type": "markdown",
      "source": [
        "## Assignment\n",
        "\n",
        "I will provide a list of students and a list of classes, create a dictionary comprehension that will contain the following information for each student in the list.\n",
        "\n",
        "Each student's information should be as follows:\n",
        "\n",
        "* id: random 9-digit integer\n",
        "* first name: first name of the student\n",
        "* last name: last name of the student\n",
        "* classes: list 7 random classes from the list of all classes\n",
        "* report card: dictionary (will have to be a separate dictionary comprehension) in which the classes are the same from the list prior with random grades ranging from 55-100\n",
        "\n",
        "I have provided a template for you below as the code for the creation of each student will be quite complex."
      ],
      "metadata": {
        "id": "ST27ASy47WjL"
      }
    },
    {
      "cell_type": "code",
      "source": [
        "import random\n",
        "\n",
        "students = [\n",
        "    \"Izuku Midoriya\",\n",
        "    \"Katsuki Bakugo\",\n",
        "    \"Shoto Todoroki\",\n",
        "    \"Eijiro Kirishima\",\n",
        "    \"Denki Kaminari\"\n",
        "]\n",
        "\n",
        "classes = [\n",
        "    \"Math\",\n",
        "    \"Science\",\n",
        "    \"Social Studies\",\n",
        "    \"Computer Science\",\n",
        "    \"Dance\",\n",
        "    \"Art\",\n",
        "    \"Cooking\",\n",
        "    \"Robotics\",\n",
        "    \"Physical Education\"\n",
        "]\n",
        "\n",
        "# Change the value None to your dictionary when you declare it.\n",
        "students_directory = { student: {\n",
        "        \"id\": None,\n",
        "        \"first_name\": None,\n",
        "        \"last_name\": None,\n",
        "        \"classes\": None,\n",
        "        \"report_card\": None,\n",
        "    } for student in students\n",
        "}\n",
        "\n",
        "for student in students_directory:\n",
        "    students_directory[student][\"report_card\"] = {\n",
        "        subject: None\n",
        "    }\n",
        "\n",
        "\n",
        "for student, info in students_directory.items():\n",
        "    print(f\"Student: {student}\")\n",
        "    print(f\"ID: {info['id']}\")\n",
        "    print(f\"First Name: {info['first_name']}\")\n",
        "    print(f\"Last Name: {info['last_name']}\")\n",
        "    print(\"Classes:\")\n",
        "    for cls in info[\"classes\"]:\n",
        "        print(f\"\\t{cls}\")\n",
        "    print(\"Report Card:\")\n",
        "    for cls, grade in info[\"report_card\"].items():\n",
        "        print(f\"\\t{cls}: {grade}\")\n",
        "    print(\"\\n\")"
      ],
      "metadata": {
        "id": "VWNwjMNj7V8z"
      },
      "execution_count": null,
      "outputs": []
    }
  ]
}