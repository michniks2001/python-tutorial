{
 "cells": [
  {
   "cell_type": "markdown",
   "id": "edfa86b8bcdf19ee",
   "metadata": {
    "collapsed": false
   },
   "source": [
    "# Lesson 9\n",
    "In the previous lesson, we learned how to use external modules/libraries as well as create our own functions. In this lesson, we will cover different types of built-in data structures that Python has to offer in more detail. We will also go over Python's `random` library, as it is a very useful module to know for applications in data science and statistics.\n",
    "\n",
    "There are 4 main built-in data structures in Python. These are:\n",
    "1) List\n",
    "2) Tuple\n",
    "3) Dictionary\n",
    "4) Set\n",
    "\n",
    "Each of these data structures behaves differently and has many different uses. We won't be covering much of lists in this lesson as those have been covered in a previous lesson."
   ]
  },
  {
   "cell_type": "markdown",
   "source": [
    "## Extra Background for Lists\n",
    "### The `del` Keyword\n",
    "The `del` keyword allows us to delete values based on index, slices. It also allows us to delete values associated to variables. "
   ],
   "metadata": {
    "collapsed": false
   },
   "id": "b4e175de8bbb8173"
  },
  {
   "cell_type": "code",
   "outputs": [
    {
     "name": "stdout",
     "output_type": "stream",
     "text": [
      "Roll:\n",
      "0: Spongebob Squarepants\n",
      "1: Patrick Star\n",
      "2: Squidward Tentacles\n",
      "3: Eugene Krabs\n",
      "4: Sandy Cheeks\n",
      "5: Sheldon Plankton\n",
      "6: Larry Lobster\n",
      "7: Fred Fish\n",
      "Roll:\n",
      "0: Spongebob Squarepants\n",
      "1: Patrick Star\n",
      "2: Squidward Tentacles\n",
      "3: Eugene Krabs\n",
      "4: Sandy Cheeks\n",
      "5: Sheldon Plankton\n"
     ]
    }
   ],
   "source": [
    "# Given the list of students:\n",
    "students = [\n",
    "    \"Spongebob Squarepants\",\n",
    "    \"Patrick Star\",\n",
    "    \"Squidward Tentacles\",\n",
    "    \"Eugene Krabs\",\n",
    "    \"Sandy Cheeks\",\n",
    "    \"Sheldon Plankton\",\n",
    "    \"Larry Lobster\",\n",
    "    \"Fred Fish\"\n",
    "]\n",
    "\n",
    "# Our Attendance Sheet may look like this:\n",
    "print(\"Roll:\")\n",
    "for index, student in enumerate(students):\n",
    "    print(f'{index}: {student}')\n",
    "\n",
    "# Let's say the last three students decided they don't want to attend class anymore and drop out, we can show this as\n",
    "del students[-1:-3:-1]\n",
    "\n",
    "print(\"Roll:\")\n",
    "for index, student in enumerate(students):\n",
    "    print(f'{index}: {student}')\n",
    "\n",
    "\n",
    "# Let's say now that the semester has ended, and we have to clear our roll. \n",
    "# We can use students.clear(), but that will just leave us with an empty list. \n",
    "# We will use the del keyword to delete the list itself.\n",
    "\n",
    "del students\n",
    "\n",
    "# Try referencing the students variable below, and see what happens:\n",
    "# print(students)"
   ],
   "metadata": {
    "collapsed": false,
    "ExecuteTime": {
     "end_time": "2024-02-19T19:41:00.097147300Z",
     "start_time": "2024-02-19T19:41:00.030416600Z"
    }
   },
   "id": "23a178552c95a6b7",
   "execution_count": 6
  },
  {
   "cell_type": "markdown",
   "id": "6f02a05e877dbfbd",
   "metadata": {
    "collapsed": false
   },
   "source": [
    "### Key Word\n",
    "**Immutable**: can not change"
   ]
  },
  {
   "cell_type": "markdown",
   "id": "f4f2fdf0b71843b7",
   "metadata": {
    "collapsed": false
   },
   "source": [
    "## Tuples\n",
    "A tuple is a data structure that is similar to a list, but is immutable and may contain different types of data within it. "
   ]
  },
  {
   "cell_type": "code",
   "execution_count": 7,
   "id": "b33b72e3882c8b3d",
   "metadata": {
    "collapsed": false,
    "ExecuteTime": {
     "end_time": "2024-02-19T19:41:00.117761100Z",
     "start_time": "2024-02-19T19:41:00.100110900Z"
    }
   },
   "outputs": [
    {
     "name": "stdout",
     "output_type": "stream",
     "text": [
      "(4, 'hello', 10.2)\n"
     ]
    }
   ],
   "source": [
    "my_tuple = 4, \"hello\", 10.2\n",
    "print(my_tuple)"
   ]
  },
  {
   "cell_type": "markdown",
   "id": "2429456094020399",
   "metadata": {
    "collapsed": false
   },
   "source": [
    "They can be indexed like a list"
   ]
  },
  {
   "cell_type": "code",
   "execution_count": 8,
   "id": "8cc4b34a0a313cdb",
   "metadata": {
    "collapsed": false,
    "ExecuteTime": {
     "end_time": "2024-02-19T19:41:00.175297800Z",
     "start_time": "2024-02-19T19:41:00.118757500Z"
    }
   },
   "outputs": [
    {
     "name": "stdout",
     "output_type": "stream",
     "text": [
      "4\n",
      "hello\n",
      "10.2\n"
     ]
    }
   ],
   "source": [
    "print(my_tuple[0])\n",
    "print(my_tuple[1])\n",
    "print(my_tuple[2])"
   ]
  },
  {
   "cell_type": "markdown",
   "id": "e224c42358b1df73",
   "metadata": {
    "collapsed": false
   },
   "source": [
    "They can also be used as a quick way to store values in multiple variables"
   ]
  },
  {
   "cell_type": "code",
   "execution_count": 9,
   "id": "9ede9310b101e055",
   "metadata": {
    "collapsed": false,
    "ExecuteTime": {
     "end_time": "2024-02-19T19:41:00.178289900Z",
     "start_time": "2024-02-19T19:41:00.151071Z"
    }
   },
   "outputs": [],
   "source": [
    "num, word, flt = my_tuple"
   ]
  },
  {
   "cell_type": "markdown",
   "id": "400c165156d5303d",
   "metadata": {
    "collapsed": false
   },
   "source": [
    "However, because they are immutable, you cannot change any values within the tuple."
   ]
  },
  {
   "cell_type": "code",
   "execution_count": 10,
   "id": "94d434e038a0e40a",
   "metadata": {
    "collapsed": false,
    "ExecuteTime": {
     "end_time": "2024-02-19T19:41:00.217756400Z",
     "start_time": "2024-02-19T19:41:00.180287900Z"
    }
   },
   "outputs": [
    {
     "ename": "TypeError",
     "evalue": "'tuple' object does not support item assignment",
     "output_type": "error",
     "traceback": [
      "\u001B[1;31m---------------------------------------------------------------------------\u001B[0m",
      "\u001B[1;31mTypeError\u001B[0m                                 Traceback (most recent call last)",
      "Cell \u001B[1;32mIn[10], line 1\u001B[0m\n\u001B[1;32m----> 1\u001B[0m \u001B[43mmy_tuple\u001B[49m\u001B[43m[\u001B[49m\u001B[38;5;241;43m0\u001B[39;49m\u001B[43m]\u001B[49m \u001B[38;5;241m=\u001B[39m \u001B[38;5;241m10\u001B[39m\n",
      "\u001B[1;31mTypeError\u001B[0m: 'tuple' object does not support item assignment"
     ]
    }
   ],
   "source": [
    "my_tuple[0] = 10"
   ]
  },
  {
   "cell_type": "markdown",
   "id": "fd039b1f3413db68",
   "metadata": {
    "collapsed": false
   },
   "source": [
    "You will notice that if you attempt to run the cell above, an exception will be thrown, because the values of a tuple are immutable. That being said, you can reassign values in a tuple. "
   ]
  },
  {
   "cell_type": "code",
   "execution_count": 11,
   "id": "880943ae5e0c970",
   "metadata": {
    "collapsed": false,
    "ExecuteTime": {
     "end_time": "2024-02-19T19:41:00.289528900Z",
     "start_time": "2024-02-19T19:41:00.218754100Z"
    }
   },
   "outputs": [
    {
     "name": "stdout",
     "output_type": "stream",
     "text": [
      "(10, 'bye', 12.5)\n"
     ]
    }
   ],
   "source": [
    "my_tuple = 10, \"bye\", 12.5\n",
    "print(my_tuple)"
   ]
  },
  {
   "cell_type": "markdown",
   "id": "70dd4e97979723ed",
   "metadata": {
    "collapsed": false
   },
   "source": [
    "### Tuple Functions\n",
    "Tuples also have their own functions. They are as follows:"
   ]
  },
  {
   "cell_type": "code",
   "execution_count": 12,
   "id": "e76e0fc1a347a952",
   "metadata": {
    "collapsed": false,
    "ExecuteTime": {
     "end_time": "2024-02-19T19:41:00.316457200Z",
     "start_time": "2024-02-19T19:41:00.275691300Z"
    }
   },
   "outputs": [
    {
     "name": "stdout",
     "output_type": "stream",
     "text": [
      "1\n",
      "0\n"
     ]
    }
   ],
   "source": [
    "my_tuple = 10, \"hello\", 30.8\n",
    "\n",
    "# the count() function counts how many times a value appears in the tuple\n",
    "print(my_tuple.count(10))\n",
    "\n",
    "# the index() function returns the index of a value\n",
    "print(my_tuple.index(10))"
   ]
  },
  {
   "cell_type": "markdown",
   "id": "417b984c8a81dbfc",
   "metadata": {
    "collapsed": false
   },
   "source": [
    "## Sets\n",
    "A set is an unordered, immutable list of values in which all the values only appear once. Let's declare a set below"
   ]
  },
  {
   "cell_type": "code",
   "execution_count": 13,
   "id": "ce2b4a43a69c72bf",
   "metadata": {
    "collapsed": false,
    "ExecuteTime": {
     "end_time": "2024-02-19T19:41:00.332795400Z",
     "start_time": "2024-02-19T19:41:00.317454400Z"
    }
   },
   "outputs": [
    {
     "name": "stdout",
     "output_type": "stream",
     "text": [
      "{'banana', 'apple', 'cherry'}\n"
     ]
    }
   ],
   "source": [
    "my_set = {\"apple\", \"banana\", \"cherry\", \"apple\"}\n",
    "print(my_set)"
   ]
  },
  {
   "cell_type": "markdown",
   "id": "45528f7e71bcbdc8",
   "metadata": {
    "collapsed": false
   },
   "source": [
    "If you run the code cell above, you will see that even though the element \"apple\" appears inside the curly brackets twice, when printed it appears once. \n",
    "\n",
    "Like tuples, sets are also immutable. This one might be a bit more obvious as to why. "
   ]
  },
  {
   "cell_type": "code",
   "outputs": [
    {
     "ename": "TypeError",
     "evalue": "'set' object does not support item assignment",
     "output_type": "error",
     "traceback": [
      "\u001B[1;31m---------------------------------------------------------------------------\u001B[0m",
      "\u001B[1;31mTypeError\u001B[0m                                 Traceback (most recent call last)",
      "Cell \u001B[1;32mIn[14], line 2\u001B[0m\n\u001B[0;32m      1\u001B[0m my_set \u001B[38;5;241m=\u001B[39m {\u001B[38;5;241m1\u001B[39m, \u001B[38;5;241m2\u001B[39m, \u001B[38;5;241m3\u001B[39m, \u001B[38;5;241m4\u001B[39m, \u001B[38;5;241m5\u001B[39m}\n\u001B[1;32m----> 2\u001B[0m \u001B[43mmy_set\u001B[49m\u001B[43m[\u001B[49m\u001B[38;5;241;43m0\u001B[39;49m\u001B[43m]\u001B[49m \u001B[38;5;241m=\u001B[39m \u001B[38;5;241m10\u001B[39m              \u001B[38;5;66;03m# This statement is illegal, an exception will be thrown\u001B[39;00m\n",
      "\u001B[1;31mTypeError\u001B[0m: 'set' object does not support item assignment"
     ]
    }
   ],
   "source": [
    "my_set = {1, 2, 3, 4, 5}\n",
    "my_set[0] = 10              # This statement is illegal, an exception will be thrown"
   ],
   "metadata": {
    "collapsed": false,
    "ExecuteTime": {
     "end_time": "2024-02-19T19:41:00.346089300Z",
     "start_time": "2024-02-19T19:41:00.334786800Z"
    }
   },
   "id": "ccaf5a888a9cc86b",
   "execution_count": 14
  },
  {
   "cell_type": "markdown",
   "source": [
    "### Set Functions and Additional Functionality\n",
    "Sets have their own set of functions that apply to them and allow for some more functionality than your standard list or tuple. Let's look at some cool functionality of sets."
   ],
   "metadata": {
    "collapsed": false
   },
   "id": "84ad2d38091b5b60"
  },
  {
   "cell_type": "code",
   "outputs": [],
   "source": [
    "# When converting a string to a set, the set will remove duplicate characters\n",
    "\n",
    "my_string = \"Hello. My name is Sam\"\n",
    "print(set(my_string))"
   ],
   "metadata": {
    "collapsed": false,
    "ExecuteTime": {
     "start_time": "2024-02-19T19:41:00.345090400Z"
    }
   },
   "id": "2b42dcd7451a5fbf"
  },
  {
   "cell_type": "markdown",
   "source": [
    "Like strings and lists, you can check whether something is in the set with the `in` keyword"
   ],
   "metadata": {
    "collapsed": false
   },
   "id": "3dfd9fc0ce36bb06"
  },
  {
   "cell_type": "code",
   "outputs": [
    {
     "name": "stdout",
     "output_type": "stream",
     "text": [
      "True\n"
     ]
    }
   ],
   "source": [
    "fruit_basket = {\"apple\", \"banana\", \"orange\", \"peach\", \"apple\", \"apple\", \"peach\"}\n",
    "print(\"apple\" in fruit_basket)"
   ],
   "metadata": {
    "collapsed": false,
    "ExecuteTime": {
     "end_time": "2024-02-19T19:41:00.395267700Z",
     "start_time": "2024-02-19T19:41:00.349876500Z"
    }
   },
   "id": "b7153a7f17e013c7",
   "execution_count": 15
  },
  {
   "cell_type": "markdown",
   "source": [
    "You can also use set comprehensions, like list comprehensions"
   ],
   "metadata": {
    "collapsed": false
   },
   "id": "607f7c41b0b9229e"
  },
  {
   "cell_type": "code",
   "outputs": [],
   "source": [
    "my_set = {i for i in range(10) if i % 2 == 0}"
   ],
   "metadata": {
    "collapsed": false,
    "ExecuteTime": {
     "end_time": "2024-02-19T19:41:00.423375600Z",
     "start_time": "2024-02-19T19:41:00.396938300Z"
    }
   },
   "id": "745956eaeb5fd707",
   "execution_count": 16
  },
  {
   "cell_type": "markdown",
   "source": [
    "Some functions that belong to sets are"
   ],
   "metadata": {
    "collapsed": false
   },
   "id": "7dab4776306494ad"
  },
  {
   "cell_type": "code",
   "outputs": [
    {
     "name": "stdout",
     "output_type": "stream",
     "text": [
      "{'peach', 'grapefruit'}\n",
      "{'banana', 'apple', 'orange'}\n",
      "False\n"
     ]
    }
   ],
   "source": [
    "fruit_basket = {\"apple\", \"banana\", \"orange\", \"peach\", \"apple\", \"apple\", \"peach\"}\n",
    "\n",
    "\n",
    "# Adds an element to the set:\n",
    "fruit_basket.add(\"grapefruit\")\n",
    "\n",
    "\n",
    "another_basket = {\"apple\", \"banana\", \"orange\", \"nectarine\"}\n",
    "# Returns a set of the differences between the two sets\n",
    "print(fruit_basket.difference(another_basket))\n",
    "\n",
    "\n",
    "# Removes an item from the set\n",
    "fruit_basket.discard(\"grapefruit\")\n",
    "\n",
    "\n",
    "# Returns a set that is the intersection of two or more sets\n",
    "print(fruit_basket.intersection(another_basket))\n",
    "\n",
    "\n",
    "# Returns whether two sets have an intersection\n",
    "print(fruit_basket.isdisjoint(another_basket))"
   ],
   "metadata": {
    "collapsed": false,
    "ExecuteTime": {
     "end_time": "2024-02-19T19:41:00.446210800Z",
     "start_time": "2024-02-19T19:41:00.425369600Z"
    }
   },
   "id": "6dc8aa19a0d9385d",
   "execution_count": 17
  },
  {
   "cell_type": "markdown",
   "source": [
    "All methods that belong to the set data structure can be found here: https://www.w3schools.com/python/python_ref_set.asp"
   ],
   "metadata": {
    "collapsed": false
   },
   "id": "9d2cf573f453a9fe"
  },
  {
   "cell_type": "markdown",
   "source": [
    "## Dictionaries\n",
    "A dictionary is a data structure that maps together two types of data, with one being a key and the other being a value. Let's define a dictionary that represents a student at a school. "
   ],
   "metadata": {
    "collapsed": false
   },
   "id": "152711da0511c426"
  },
  {
   "cell_type": "code",
   "outputs": [
    {
     "name": "stdout",
     "output_type": "stream",
     "text": [
      "Student: 1036513\n",
      "Student Name: Squarepants, Spongebob\n",
      "\n",
      "Classes:\n",
      "\t1: Mathematics\n",
      "\t2: Science\n",
      "\t3: Art\n",
      "\t4: Driving\n",
      "\n",
      "Report Card:\n",
      "\tMathematics: 90\n",
      "\tScience: 80\n",
      "\tArt: 100\n",
      "\tDriving: 6\n"
     ]
    }
   ],
   "source": [
    "student = {\n",
    "    \"id\": 1036513,\n",
    "    \"first_name\": \"Spongebob\",\n",
    "    \"last_name\": \"Squarepants\",\n",
    "    \"classes\": [\n",
    "        \"Mathematics\",\n",
    "        \"Science\",\n",
    "        \"Art\",\n",
    "        \"Driving\"\n",
    "    ],\n",
    "    \"report_card\": {\n",
    "        \"Mathematics\": 90,\n",
    "        \"Science\": 80,\n",
    "        \"Art\": 100,\n",
    "        \"Driving\": 6\n",
    "    }\n",
    "}\n",
    "\n",
    "# There are a lot of components to this student dictionary, but in reality it's not as complicated as it may seem at first glance.\n",
    "# The keys are represented as a string, which describes a piece of data that relates to the student. \n",
    "# Let's go over what each key means and the data that they represent.\n",
    "\n",
    "# The key \"id\" references the student's id, which is represented by an integer\n",
    "print(f'Student: {student[\"id\"]}')\n",
    "\n",
    "\n",
    "# The keys \"first_name\" and \"last_name\" represent the student's name, which is also a string\n",
    "print(f'Student Name: {student[\"last_name\"]}, {student[\"first_name\"]}')\n",
    "\n",
    "\n",
    "# The key \"classes\" represents the classes in this student's schedule, which is represented as a list\n",
    "print(\"\\nClasses:\")\n",
    "for index, cls in enumerate(student[\"classes\"]):\n",
    "    print(f\"\\t{index + 1}: {cls}\")\n",
    "    \n",
    "\n",
    "# The key \"report_card\" represents this student's latest report card. \n",
    "# The report card is represented as a dictionary in which the keys are the classes and the values are integer grades\n",
    "print(\"\\nReport Card:\")\n",
    "for cls, grade in student[\"report_card\"].items():\n",
    "    print(f'\\t{cls}: {grade}')"
   ],
   "metadata": {
    "collapsed": false,
    "ExecuteTime": {
     "end_time": "2024-02-19T19:41:00.474599600Z",
     "start_time": "2024-02-19T19:41:00.450200300Z"
    }
   },
   "id": "8aed6c25ec4040d9",
   "execution_count": 18
  },
  {
   "cell_type": "markdown",
   "source": [
    "### Dictionary Comprehensions\n",
    "Dictionaries also have comprehensions, like lists and sets. They do look slightly different however. Let's assign a list of students a random integer as their student id using Python's built-in `random` library."
   ],
   "metadata": {
    "collapsed": false
   },
   "id": "2a28cef068d7f426"
  },
  {
   "cell_type": "code",
   "outputs": [
    {
     "name": "stdout",
     "output_type": "stream",
     "text": [
      "Spongebob Squarepants: 64560\n",
      "Squidward Tentacles: 89138\n",
      "Patrick Star: 51971\n",
      "Eugene Krabs: 93862\n",
      "Sandy Cheeks: 90535\n"
     ]
    }
   ],
   "source": [
    "import random\n",
    "\n",
    "students = [\n",
    "    \"Spongebob Squarepants\",\n",
    "    \"Squidward Tentacles\",\n",
    "    \"Patrick Star\",\n",
    "    \"Eugene Krabs\",\n",
    "    \"Sandy Cheeks\"\n",
    "]\n",
    "\n",
    "# Here, the keys of the dictionary will be the students in the list provided, while the values are a \n",
    "# random 5-digit number provided by Python's \"random\" library by using the randint() function.\n",
    "student_ids = {student: random.randint(10000, 99999) for student in students}\n",
    "\n",
    "for student, student_id in student_ids.items():\n",
    "    print(f'{student}: {student_id}')"
   ],
   "metadata": {
    "collapsed": false,
    "ExecuteTime": {
     "end_time": "2024-02-19T19:41:00.475598Z",
     "start_time": "2024-02-19T19:41:00.455358500Z"
    }
   },
   "id": "d411d39194ba6a4b",
   "execution_count": 19
  },
  {
   "cell_type": "markdown",
   "source": [
    "### Dictionary Functions\n",
    "Dictionaries have their own functions, that are exclusive to them given the nature of this particular data structure. Let's take a look at some below   "
   ],
   "metadata": {
    "collapsed": false
   },
   "id": "1fc7d8e07e7f7131"
  },
  {
   "cell_type": "code",
   "outputs": [
    {
     "name": "stdout",
     "output_type": "stream",
     "text": [
      "apple: 2\n",
      "orange: 5\n",
      "banana: 5\n",
      "cucumber: 8\n",
      "tomato: 10\n",
      "squash: 3\n",
      "zucchini: 6\n",
      "apple\n",
      "orange\n",
      "banana\n",
      "2\n",
      "5\n",
      "5\n"
     ]
    }
   ],
   "source": [
    "# We can create a dictionary from a list of tuples that each contain keys-value pairs. Let's create a fruit basket using this method\n",
    "fruit_basket = dict([\n",
    "    (\"apple\", 2),\n",
    "    (\"orange\", 5),\n",
    "    (\"banana\", 5)\n",
    "])\n",
    "\n",
    "for fruit, quantity in fruit_basket.items():\n",
    "    print(f'{fruit}: {quantity}')\n",
    "\n",
    "# We can also create a dictionary from keyword arguments (**kwargs) with the dict function as well\n",
    "vegetable_basket = dict(cucumber=8, tomato=10, squash=3, zucchini=6)\n",
    "for vegetable, quantity in vegetable_basket.items():\n",
    "    print(f'{vegetable}: {quantity}')\n",
    "    \n",
    "# As previously shown, we can use the items() function to separate the keys from their values and use them individually\n",
    "\n",
    "# You can grab the keys only by using the keys() function\n",
    "for fruit in fruit_basket.keys():\n",
    "    print(fruit)\n",
    "    \n",
    "# You can grab the values by using the values() function\n",
    "for quantity in fruit_basket.values(): \n",
    "    print(quantity)\n"
   ],
   "metadata": {
    "collapsed": false,
    "ExecuteTime": {
     "end_time": "2024-02-19T19:41:00.543827900Z",
     "start_time": "2024-02-19T19:41:00.477592600Z"
    }
   },
   "id": "458821278b111fbd",
   "execution_count": 20
  },
  {
   "cell_type": "markdown",
   "source": [
    "A list of all the methods for dictionaries can be found here: https://www.w3schools.com/python/python_ref_dictionary.asp"
   ],
   "metadata": {
    "collapsed": false
   },
   "id": "b7ed186ca63a2e2f"
  },
  {
   "cell_type": "markdown",
   "source": [
    "## Python's `random` Library\n",
    "Python has a built-in library for pseudo-random number generation. As most people know, random number generation is just simply impossible in computer programming because something like randomness can't really be programmed if it is algorithmic in nature, this library should provide some form of randomness for whatever purposes are required. \n",
    "\n",
    "Let's take a look at some of the functionality of the `random` library."
   ],
   "metadata": {
    "collapsed": false
   },
   "id": "c241a8dc3e293d5f"
  },
  {
   "cell_type": "code",
   "outputs": [
    {
     "name": "stdout",
     "output_type": "stream",
     "text": [
      "7\n",
      "8\n",
      "11\n",
      "white\n",
      "pink: 4\n",
      "blue: 4\n",
      "red: 3\n",
      "green: 3\n",
      "black: 2\n",
      "yellow: 3\n",
      "white: 1\n",
      "Before shuffle: [1, 2, 3, 4, 5]\n",
      "After shuffle: [3, 4, 1, 5, 2]\n",
      "junior: 28\n",
      "senior: 31\n",
      "freshman: 25\n",
      "sophomore: 16\n"
     ]
    }
   ],
   "source": [
    "import random\n",
    "\n",
    "# To generate a number from a range, use randrange()\n",
    "rand_number = random.randrange(10)\n",
    "print(rand_number)\n",
    "\n",
    "# Like the range function, you can use the start, stop, step format of the range function\n",
    "rand_number = random.randrange(0, 10, 2)\n",
    "print(rand_number)\n",
    "\n",
    "# To generate a random integer within a given range inclusively you use randint(a, b)\n",
    "rand_number = random.randint(10, 20)\n",
    "print(rand_number)\n",
    "\n",
    "\n",
    "# You can also have some fun with lists using the random library. Let's look at some of that functionality as well\n",
    "socks = [\n",
    "    \"blue\",\n",
    "    \"red\",\n",
    "    \"green\",\n",
    "    \"white\",\n",
    "    \"black\",\n",
    "    \"yellow\",\n",
    "    \"pink\",\n",
    "]\n",
    "\n",
    "# choice() returns a random element from a list\n",
    "random_sock = random.choice(socks)\n",
    "print(random_sock)\n",
    "\n",
    "\n",
    "# choices() returns a list of random elements chosen from a list with replacement\n",
    "sock_drawer = random.choices(socks, k=20)\n",
    "for sock, quantity in {sock: sock_drawer.count(sock) for sock in sock_drawer}.items():\n",
    "    print(f'{sock}: {quantity}')\n",
    "    \n",
    "# shuffle() will as the name implies, shuffle the list in place\n",
    "nums = [1, 2, 3, 4, 5]\n",
    "print(f'Before shuffle: {nums}')\n",
    "random.shuffle(nums)\n",
    "print(f'After shuffle: {nums}')\n",
    "\n",
    "\n",
    "# sample() will return a list of unique elements chosen from a population sequence\n",
    "# Let's take a random sample of students based on their grade\n",
    "grades = [\n",
    "    \"freshman\",\n",
    "    \"sophomore\",\n",
    "    \"junior\",\n",
    "    \"senior\"\n",
    "]\n",
    "\n",
    "samples = random.sample(population=grades, counts=[400, 400, 400, 400], k=100)\n",
    "\n",
    "# Now let's print a dictionary representation of our sample similarly to how we printed our sock drawer\n",
    "for grade, sample in {grade: samples.count(grade) for grade in samples}.items():\n",
    "    print(f'{grade}: {sample}')"
   ],
   "metadata": {
    "collapsed": false,
    "ExecuteTime": {
     "end_time": "2024-02-19T19:41:00.569758300Z",
     "start_time": "2024-02-19T19:41:00.536012300Z"
    }
   },
   "id": "336595bd60dea40a",
   "execution_count": 21
  },
  {
   "cell_type": "markdown",
   "source": [
    "These are just some basic functions for the `random` library. There are also statistical functions for this library like discrete probability, and gaussian statistics as well. \n",
    "\n",
    "For all documentation regarding the `random` library, visit this link: https://docs.python.org/3/library/random.html"
   ],
   "metadata": {
    "collapsed": false
   },
   "id": "127294849ee6c077"
  },
  {
   "cell_type": "markdown",
   "source": [
    "## Assignment\n",
    "\n",
    "I will provide a list of students and a list of classes, create a dictionary comprehension that will contain the following information for each student in the list.\n",
    "\n",
    "Each student's information should be as follows:\n",
    "\n",
    "* id: random 9-digit integer\n",
    "* first name: first name of the student\n",
    "* last name: last name of the student\n",
    "* classes: list 7 random classes from the list of all classes\n",
    "* report card: dictionary (will have to be a separate dictionary comprehension) in which the classes are the same from the list prior with random grades ranging from 55-100\n",
    "\n",
    "I have provided a template for you below as the code for the creation of each student will be quite complex."
   ],
   "metadata": {
    "collapsed": false
   },
   "id": "c351958bd48df87d"
  },
  {
   "cell_type": "code",
   "outputs": [
    {
     "ename": "NameError",
     "evalue": "name 'subject' is not defined",
     "output_type": "error",
     "traceback": [
      "\u001B[1;31m---------------------------------------------------------------------------\u001B[0m",
      "\u001B[1;31mNameError\u001B[0m                                 Traceback (most recent call last)",
      "Cell \u001B[1;32mIn[22], line 35\u001B[0m\n\u001B[0;32m     24\u001B[0m students_directory \u001B[38;5;241m=\u001B[39m { student: {\n\u001B[0;32m     25\u001B[0m         \u001B[38;5;124m\"\u001B[39m\u001B[38;5;124mid\u001B[39m\u001B[38;5;124m\"\u001B[39m: \u001B[38;5;28;01mNone\u001B[39;00m,\n\u001B[0;32m     26\u001B[0m         \u001B[38;5;124m\"\u001B[39m\u001B[38;5;124mfirst_name\u001B[39m\u001B[38;5;124m\"\u001B[39m: \u001B[38;5;28;01mNone\u001B[39;00m,\n\u001B[1;32m   (...)\u001B[0m\n\u001B[0;32m     30\u001B[0m     } \u001B[38;5;28;01mfor\u001B[39;00m student \u001B[38;5;129;01min\u001B[39;00m students\n\u001B[0;32m     31\u001B[0m }\n\u001B[0;32m     33\u001B[0m \u001B[38;5;28;01mfor\u001B[39;00m student \u001B[38;5;129;01min\u001B[39;00m students_directory:\n\u001B[0;32m     34\u001B[0m     students_directory[student][\u001B[38;5;124m\"\u001B[39m\u001B[38;5;124mreport_card\u001B[39m\u001B[38;5;124m\"\u001B[39m] \u001B[38;5;241m=\u001B[39m {\n\u001B[1;32m---> 35\u001B[0m         \u001B[43msubject\u001B[49m: \u001B[38;5;28;01mNone\u001B[39;00m\n\u001B[0;32m     36\u001B[0m     }\n\u001B[0;32m     39\u001B[0m \u001B[38;5;28;01mfor\u001B[39;00m student, info \u001B[38;5;129;01min\u001B[39;00m students_directory\u001B[38;5;241m.\u001B[39mitems():\n\u001B[0;32m     40\u001B[0m     \u001B[38;5;28mprint\u001B[39m(\u001B[38;5;124mf\u001B[39m\u001B[38;5;124m\"\u001B[39m\u001B[38;5;124mStudent: \u001B[39m\u001B[38;5;132;01m{\u001B[39;00mstudent\u001B[38;5;132;01m}\u001B[39;00m\u001B[38;5;124m\"\u001B[39m)\n",
      "\u001B[1;31mNameError\u001B[0m: name 'subject' is not defined"
     ]
    }
   ],
   "source": [
    "import random\n",
    "\n",
    "students = [\n",
    "    \"Izuku Midoriya\",\n",
    "    \"Katsuki Bakugo\",\n",
    "    \"Shoto Todoroki\",\n",
    "    \"Eijiro Kirishima\",\n",
    "    \"Denki Kaminari\"\n",
    "]\n",
    "\n",
    "classes = [\n",
    "    \"Math\",\n",
    "    \"Science\",\n",
    "    \"Social Studies\",\n",
    "    \"Computer Science\",\n",
    "    \"Dance\",\n",
    "    \"Art\",\n",
    "    \"Cooking\",\n",
    "    \"Robotics\",\n",
    "    \"Physical Education\"\n",
    "]\n",
    "\n",
    "# Change the value None to your dictionary when you declare it.\n",
    "students_directory = { student: {\n",
    "        \"id\": None,\n",
    "        \"first_name\": None,\n",
    "        \"last_name\": None,\n",
    "        \"classes\": None,\n",
    "        \"report_card\": None,\n",
    "    } for student in students\n",
    "}\n",
    "\n",
    "for student in students_directory:\n",
    "    students_directory[student][\"report_card\"] = {\n",
    "        subject: None\n",
    "    }\n",
    "    \n",
    "\n",
    "for student, info in students_directory.items():\n",
    "    print(f\"Student: {student}\")\n",
    "    print(f\"ID: {info['id']}\")\n",
    "    print(f\"First Name: {info['first_name']}\")\n",
    "    print(f\"Last Name: {info['last_name']}\")\n",
    "    print(\"Classes:\")\n",
    "    for cls in info[\"classes\"]:\n",
    "        print(f\"\\t{cls}\")\n",
    "    print(\"Report Card:\")\n",
    "    for cls, grade in info[\"report_card\"].items():\n",
    "        print(f\"\\t{cls}: {grade}\")\n",
    "    print(\"\\n\")"
   ],
   "metadata": {
    "collapsed": false,
    "ExecuteTime": {
     "end_time": "2024-02-19T19:41:00.597984300Z",
     "start_time": "2024-02-19T19:41:00.572750300Z"
    }
   },
   "id": "65f1bb4978601712",
   "execution_count": 22
  }
 ],
 "metadata": {
  "kernelspec": {
   "display_name": "Python 3 (ipykernel)",
   "language": "python",
   "name": "python3"
  },
  "language_info": {
   "codemirror_mode": {
    "name": "ipython",
    "version": 3
   },
   "file_extension": ".py",
   "mimetype": "text/x-python",
   "name": "python",
   "nbconvert_exporter": "python",
   "pygments_lexer": "ipython3",
   "version": "3.12.0"
  }
 },
 "nbformat": 4,
 "nbformat_minor": 5
}
