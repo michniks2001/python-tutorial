{
 "cells": [
  {
   "cell_type": "markdown",
   "id": "d6692d1f0a4b1bd5",
   "metadata": {
    "collapsed": false
   },
   "source": [
    "# Lesson 8\n",
    "In the previous lesson, we went over different types of string manipulations, string functions, and special characters. We also saw all of those techniques used to solve a complicated problem. \n",
    "\n",
    "In this lesson, we will be covering the `math` module, along with the use of functions."
   ]
  },
  {
   "cell_type": "markdown",
   "id": "dc6a4534975cd1e1",
   "metadata": {
    "collapsed": false
   },
   "source": [
    "## Using Python Libraries\n",
    "Before we show some code, let's quickly go over how to use external libraries in our code.\n",
    "\n",
    "In Python, there is a special keyword that is used for bringing in external libraries and modules. This keyword is the `import` keyword. The `import` keyword allows us to bring in an entire library into our code and use it.\n",
    "\n",
    "Observe:"
   ]
  },
  {
   "cell_type": "code",
   "execution_count": 1,
   "id": "c1d011c8b7a697e1",
   "metadata": {
    "ExecuteTime": {
     "end_time": "2024-02-14T20:30:13.827293800Z",
     "start_time": "2024-02-14T20:30:13.815090200Z"
    },
    "collapsed": false
   },
   "outputs": [],
   "source": [
    "import math\n",
    "\n",
    "print(math.sin(10))"
   ]
  },
  {
   "cell_type": "markdown",
   "id": "c98340d1a591050c",
   "metadata": {
    "collapsed": false
   },
   "source": [
    "In the example above, we used the `import` keyword to bring in the `math` library and use it within our code with the built-in `sin()` function.\n",
    "\n",
    "There are such cases where libraries are not built into Python. In these particular cases, we have to install them using Python's `pip` package manager. If you ever need to use a library that isn't in already built in, use the following command:\n",
    "\n",
    "`pip install <name_of_module>`\n",
    "\n",
    "Sometimes that command may not work on your computer and that's okay. Here are some alternatives that will do the same thing.\n",
    "\n",
    "`pip3 install <name_of_module>`\n",
    "\n",
    "`python -m pip install <name_of_module>`"
   ]
  },
  {
   "cell_type": "markdown",
   "id": "94c652df883aeaa8",
   "metadata": {
    "collapsed": false
   },
   "source": [
    "## The `math` Module\n",
    "The `math` module has allows for more accurate and usable math than the current built-in operations in Python.\n",
    "\n",
    "Let's review our current array of operations that we can perform in Python"
   ]
  },
  {
   "cell_type": "code",
   "execution_count": null,
   "id": "85ddcc95069daa68",
   "metadata": {
    "collapsed": false
   },
   "outputs": [],
   "source": [
    "# Addition\n",
    "print(10 + 5)\n",
    "\n",
    "# Subtraction\n",
    "print(10 - 5)\n",
    "\n",
    "# Multiplication\n",
    "print(10 * 5)\n",
    "\n",
    "# Division\n",
    "print(10 / 5)\n",
    "\n",
    "# Modulo\n",
    "print(10 % 5)\n",
    "\n",
    "# Floor Division (Integer Division)\n",
    "print(10 // 5)\n",
    "\n",
    "# Exponentiation\n",
    "print(10 ** 5)"
   ]
  },
  {
   "cell_type": "markdown",
   "id": "9e2c34a4a236b17d",
   "metadata": {
    "collapsed": false
   },
   "source": [
    "The `math` module gives us even more functionality, along with more accurate results. These are just some of the functions that are included in this library. To see all of the functions go to the following link: https://docs.python.org/3/library/math.html."
   ]
  },
  {
   "cell_type": "code",
   "execution_count": null,
   "id": "a65da75f11416e77",
   "metadata": {
    "collapsed": false
   },
   "outputs": [],
   "source": [
    "import math\n",
    "\n",
    "x = 5.25\n",
    "# Returns the smallest integer greater than or equal to x\n",
    "print(math.ceil(x))\n",
    "\n",
    "\n",
    "n = 10\n",
    "k = 3\n",
    "# Returns the number of ways to choose k items from n items without repitition or order\n",
    "print(math.comb(n, k))\n",
    "\n",
    "\n",
    "x = -2\n",
    "# Returns the absolute value of x\n",
    "print(math.fabs(x))\n",
    "\n",
    "\n",
    "x = 5\n",
    "# Returns the factorial of x\n",
    "print(math.factorial(x))\n",
    "\n",
    "\n",
    "x = 5.25\n",
    "# Returns the floor of x, the largest integer less than or equal to x\n",
    "print(math.floor(x))\n",
    "\n",
    "\n",
    "\n",
    "iterable = [3.2, 2.9, 4.6, 5.2, 2.9, 4.4]\n",
    "# Returns an accurate floating point sum of values in the iterable\n",
    "print(math.fsum(iterable))\n",
    "\n",
    "\n",
    "x, y = 30, 25\n",
    "# Returns the greatest common divisor of the arguments. Can be as many as you want. Must be integers\n",
    "print(math.gcd(x, y))\n",
    "\n",
    "\n",
    "x = 25\n",
    "# Returns the square root of the number\n",
    "print(math.sqrt(x))\n",
    "\n",
    "\n",
    "\n",
    "x, y = 30, 25\n",
    "# Returns the least common multiple. Like gcd, can include more than 2 integer arguments.\n",
    "print(math.lcm(x, y))"
   ]
  },
  {
   "cell_type": "markdown",
   "id": "21dd640818e935bc",
   "metadata": {
    "collapsed": false
   },
   "source": [
    "I will add the constants from the math module here as well for reference:"
   ]
  },
  {
   "cell_type": "code",
   "execution_count": null,
   "id": "f5b966c3776e9afc",
   "metadata": {
    "collapsed": false
   },
   "outputs": [],
   "source": [
    "import math\n",
    "\n",
    "print(math.pi)      # Pi\n",
    "print(math.e)       # Euler's constant\n",
    "print(math.tau)     # Tau\n",
    "print(math.inf)     # Infinity\n",
    "print(-math.inf)    # Adding a negative sign to infinity gives us negative infinity\n",
    "print(math.nan)     # NaN stands for not a number. math.isnan() checks if a number is this constant\n"
   ]
  },
  {
   "cell_type": "markdown",
   "id": "1df8d0cf4ff24d18",
   "metadata": {
    "collapsed": false
   },
   "source": [
    "## Python Functions\n",
    "Along with Python's built-in functions, we as programmers can create our own custom functions.\n",
    "\n",
    "To declare a function in python we use the `def` keyword, followed by the name of our function with parenthesis right after, and a colon to allow use to add our block of code underneath. Below is a bare-bones way to create a function. This function will only return the sum of the two inputs that it takes in."
   ]
  },
  {
   "cell_type": "code",
   "execution_count": null,
   "id": "87a8fc2b45408421",
   "metadata": {
    "collapsed": false
   },
   "outputs": [],
   "source": [
    "def add(num1, num2):\n",
    "    return num1 + num2"
   ]
  },
  {
   "cell_type": "markdown",
   "id": "edbf2d0d9b491d3f",
   "metadata": {
    "collapsed": false
   },
   "source": [
    "Functions don't necessarily need any parameters or return values. You can literally create a function that does absolutely nothing."
   ]
  },
  {
   "cell_type": "code",
   "execution_count": null,
   "id": "715647da25f53457",
   "metadata": {
    "collapsed": false
   },
   "outputs": [],
   "source": [
    "def do_nothing():\n",
    "    pass"
   ]
  },
  {
   "cell_type": "markdown",
   "id": "1392b86be509ac1d",
   "metadata": {
    "collapsed": false
   },
   "source": [
    "The `pass` keyword is used in this instance to indicate that something needs to be implemented when this function is called, therefore doing nothing."
   ]
  },
  {
   "cell_type": "markdown",
   "id": "5c76847250ffb7e",
   "metadata": {
    "collapsed": false
   },
   "source": [
    "### Type Hinting\n",
    "We can also provide type hints, that way the person who may be using our function knows what the inputs should look like, along with any return types."
   ]
  },
  {
   "cell_type": "code",
   "execution_count": null,
   "id": "2d2d9a7dd0bf08aa",
   "metadata": {
    "collapsed": false
   },
   "outputs": [],
   "source": [
    "def add(num1: int, num2: int) -> int:\n",
    "    return num1 + num2"
   ]
  },
  {
   "cell_type": "markdown",
   "id": "3b19fd2b453a15ae",
   "metadata": {
    "collapsed": false
   },
   "source": [
    "## Assignment\n",
    "As we have seen above, we created a function that adds two integers together and returns the result. I will provide a template for you that I would like for you to implement all of the functions within that template. The guidelines are as follows.\n",
    "\n",
    "1) Each function is to have 2 parameters\n",
    "2) Each parameter must have a type hint for integers\n",
    "3) The return type should be specified"
   ]
  },
  {
   "cell_type": "code",
   "outputs": [],
   "source": [
    "# Template\n",
    "\n",
    "def add(num1: int, num2: int) -> int:\n",
    "    return num1 + num2\n",
    "\n",
    "def subtract():\n",
    "    pass\n",
    "\n",
    "def multiply():\n",
    "    pass\n",
    "\n",
    "def divide():\n",
    "    pass\n",
    "\n",
    "def square():\n",
    "    pass\n",
    "\n",
    "x, y = 5, 2\n",
    "print(add(x, y))\n",
    "print(subtract(x, y))\n",
    "print(multiply(x, y))\n",
    "print(divide(x, y))\n",
    "print(square(x, y))"
   ],
   "metadata": {
    "collapsed": false
   },
   "id": "6e06387b9383ffe",
   "execution_count": null
  }
 ],
 "metadata": {
  "kernelspec": {
   "display_name": "Python 3 (ipykernel)",
   "language": "python",
   "name": "python3"
  },
  "language_info": {
   "codemirror_mode": {
    "name": "ipython",
    "version": 3
   },
   "file_extension": ".py",
   "mimetype": "text/x-python",
   "name": "python",
   "nbconvert_exporter": "python",
   "pygments_lexer": "ipython3",
   "version": "3.12.0"
  }
 },
 "nbformat": 4,
 "nbformat_minor": 5
}
