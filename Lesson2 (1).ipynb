{
  "nbformat": 4,
  "nbformat_minor": 0,
  "metadata": {
    "colab": {
      "provenance": []
    },
    "kernelspec": {
      "name": "python3",
      "display_name": "Python 3"
    },
    "language_info": {
      "name": "python"
    }
  },
  "cells": [
    {
      "cell_type": "markdown",
      "source": [
        "# Lesson 2\n",
        "Last time we went over how to download Python to our system and the `print()` statement.\n",
        "\n",
        "This time, we will be going over variables, data types, and operations."
      ],
      "metadata": {
        "id": "sU7o4bpK8qcy"
      }
    },
    {
      "cell_type": "markdown",
      "source": [
        "## Variables\n",
        "Simply, a variable holds data. There are many kinds of data that can be stored within a variable. In Python, these kinds of data are as follows:\n",
        "* Integers (int)\n",
        "* Float (float)\n",
        "* Strings (str)\n",
        "* Booleans (bool)\n",
        "\n",
        "What I have described above are known as primitive data types. There are also some that are a bit more complex, these are:\n",
        "* List (list)\n",
        "* Tuple (tuple)\n",
        "* Set (set)\n",
        "* Dictionary (dict)\n",
        "\n",
        "In this lesson, we will focus on the primitive data types that I have mentioned previously, the more complex ones will have their own dedicated lesson in the future."
      ],
      "metadata": {
        "id": "NW9fyftf9WLV"
      }
    },
    {
      "cell_type": "code",
      "execution_count": null,
      "metadata": {
        "id": "z-YryIH18pry"
      },
      "outputs": [],
      "source": [
        "a = 5         # This is an int variable\n",
        "b = 2.5       # This is a float variable\n",
        "c = \"Hello\"   # This is a string variable\n",
        "d = True      # This is a boolean variable"
      ]
    },
    {
      "cell_type": "markdown",
      "source": [
        "To check the type of a variable, we can use the `type()` function and it will display the type of the variable or value inside of it"
      ],
      "metadata": {
        "id": "Yi2RqDzy-qIj"
      }
    },
    {
      "cell_type": "code",
      "source": [
        "a = 5\n",
        "b = 2.5\n",
        "c = \"Hello\"\n",
        "d = True\n",
        "\n",
        "print(type(a))\n",
        "print(type(b))\n",
        "print(type(c))\n",
        "print(type(d))"
      ],
      "metadata": {
        "id": "ITZYINmC-2Wn"
      },
      "execution_count": null,
      "outputs": []
    },
    {
      "cell_type": "markdown",
      "source": [
        "## Operations\n",
        "Many operations can be performed on variables. For now we will focus on the main arithmetic operations that can be performed on numerical values as well as a concept known as **string concatenation**."
      ],
      "metadata": {
        "id": "XZ3PVk_H_ycV"
      }
    },
    {
      "cell_type": "code",
      "source": [
        "a = 5\n",
        "b = 2.5\n",
        "c = \"Hello\"\n",
        "d = True\n",
        "\n",
        "# Arithmetic operations\n",
        "print(a + b)\n",
        "print(a - b)\n",
        "print(a * b)\n",
        "print(a / b)\n",
        "print(a // b)  # Floor division, rounds down to the nearest integer\n",
        "print(a % b)  # Modulus, returns the remainder of the division\n",
        "print(a ** 2) # Exponent, returns a to the power of 2\n",
        "\n",
        "# String concatenation\n",
        "print(c + \" World!\")\n"
      ],
      "metadata": {
        "id": "0N8vf8HhAMGl"
      },
      "execution_count": null,
      "outputs": []
    },
    {
      "cell_type": "markdown",
      "source": [
        "As you may have noticed, we were able to perform operations on variables that have two different types. As we have seen previously `a` and `b` are of types `int` and `float` respectively, but we can still perform operations using both of them because Python is dynamically typed, meaning that variables can change types."
      ],
      "metadata": {
        "id": "OYeTghcYAnt9"
      }
    },
    {
      "cell_type": "code",
      "source": [
        "a = 5\n",
        "print(a)\n",
        "\n",
        "a = \"Hello\"\n",
        "print(a)"
      ],
      "metadata": {
        "id": "FBqnho89B1vh"
      },
      "execution_count": null,
      "outputs": []
    },
    {
      "cell_type": "markdown",
      "source": [
        "As you can see, we use the same variable name and declared it as both an `int` and a `string`."
      ],
      "metadata": {
        "id": "mOQZeFRvB75b"
      }
    },
    {
      "cell_type": "markdown",
      "source": [
        "## String Concatenation and F-Strings\n",
        "Earlier we saw an example of **string concatenation**, which is when we add two strings together using the + operator on two strings. But what happens if we decide to run the following code?"
      ],
      "metadata": {
        "id": "XWJ-nbyvC8OS"
      }
    },
    {
      "cell_type": "code",
      "source": [
        "a = 5\n",
        "print(\"Hello \" + a)"
      ],
      "metadata": {
        "id": "5H5M58PTDNuP"
      },
      "execution_count": null,
      "outputs": []
    },
    {
      "cell_type": "markdown",
      "source": [
        "As you can see we get an error that we can't add a value of type `string` and a value of type `int` together. That is where **f-strings** come in. F-string is short for formatted string, a string that allows for variables to be formatted into the string itself, allowing for the string to be dynamic. These strings allow us to include variables within our strings without the need to use any operators. We declare an f-string like so:"
      ],
      "metadata": {
        "id": "PdJcx9gwDVJL"
      }
    },
    {
      "cell_type": "code",
      "source": [
        "a = 5\n",
        "f_string = f\"Hello {a}\"\n",
        "print(f_string)"
      ],
      "metadata": {
        "id": "193U6EZJD9b4"
      },
      "execution_count": null,
      "outputs": []
    },
    {
      "cell_type": "markdown",
      "source": [
        "As you can see that statement prints just fine. If you're familiar with JavaScript, you will know that there is a similar concept known as templated strings, which are essentially the same as f-strings."
      ],
      "metadata": {
        "id": "3EoyU3UwEFmh"
      }
    },
    {
      "cell_type": "markdown",
      "source": [
        "## Assignment\n",
        "Using what you have learned about variables and their operations, finish the following program based on the instructions in the comments"
      ],
      "metadata": {
        "id": "JfB1qzZtHXw3"
      }
    },
    {
      "cell_type": "code",
      "source": [
        "# First create a variable called favorite_food and set it equal to a string that describes your favorite food.\n",
        "# Then finish the print statement on the next line using string concatenation.\n",
        "# On the following line create two variables, a and b and set them equal to 5 and 2\n",
        "# Using f-strings, print the sum, difference, product, and quotient on 4 different lines.\n",
        "\n",
        "favorite_food =\n",
        "print('My favorite food is: ')\n",
        "\n",
        "a =\n",
        "b =\n",
        "print(f'The sum of a and b is ')\n",
        "print(f'The difference of a and b is ')\n",
        "print(f'The product of a and b is ')\n",
        "print(f'The quotient of a and b is ')"
      ],
      "metadata": {
        "id": "B9R37r3UH2Kp"
      },
      "execution_count": null,
      "outputs": []
    }
  ]
}