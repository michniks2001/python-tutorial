{
  "nbformat": 4,
  "nbformat_minor": 0,
  "metadata": {
    "colab": {
      "provenance": []
    },
    "kernelspec": {
      "name": "python3",
      "display_name": "Python 3"
    },
    "language_info": {
      "name": "python"
    }
  },
  "cells": [
    {
      "cell_type": "markdown",
      "source": [
        "# Lesson 12\n",
        "Last time we went over how to work with NumPy arrays (matrices) in Python, and we also created a linear regression model. In this lesson, we will go over some other Python-exclusive functionality that will enhance the organization of our code."
      ],
      "metadata": {
        "id": "sKKh8UGmrLDs"
      }
    },
    {
      "cell_type": "markdown",
      "source": [
        "## Lambda Functions/Anonymous Functions\n",
        "Anonymous functions, also known as anonymous functions, are considered lightweight and quick as they are only meant to perform a single operation. In other languages like JavaScript, anonymous functions are synonymous with regular named functions and frequent times are interchangeable based on the developer's needs. In Python, they are much more simple and require a lot less to use them.\n",
        "\n",
        "To declare a lambda, we use the `lambda` keyword and then follow it up with the parameters and then a colon. Then we simply use the parameters to get some result. Let's take a look at some examples!"
      ],
      "metadata": {
        "id": "ZqaA-6PFr1vV"
      }
    },
    {
      "cell_type": "code",
      "execution_count": null,
      "metadata": {
        "id": "CHk5darorJDB"
      },
      "outputs": [],
      "source": [
        "# This lambda function takes in two arguments (x and y) and returns their sum\n",
        "add = lambda x, y: x + y\n",
        "print(add(10, 5))\n",
        "\n",
        "# This lambda function takes in one argument (s) and returns the capitalized version of the string\n",
        "capital = lambda s: s.capitalize()\n",
        "print(capital(\"hello\"))"
      ]
    },
    {
      "cell_type": "markdown",
      "source": [
        "## Ternary Operations\n",
        "You can write conditional statements in one line. This type of operation is called a ternary operation, and they appear in a multitude of languages including Python.\n",
        "\n",
        "To declare a ternary operation, specify an action that will happen if the condition is true and then write the keyword `else` and then specify the action afterward.\n",
        "\n",
        "Let's take a look at how a ternary operation looks when compared to a regular conditional statement."
      ],
      "metadata": {
        "id": "lqg2oRkHtxx0"
      }
    },
    {
      "cell_type": "markdown",
      "source": [
        "### Implementation 1: Declaring a Function for our `map()`"
      ],
      "metadata": {
        "id": "q-Ck4cm8uSmT"
      }
    },
    {
      "cell_type": "code",
      "source": [
        "# Importing the Callable type from the typing module, which is used to specify that a variable is a function\n",
        "from typing import Callable\n",
        "\n",
        "# This is a regular conditional statement\n",
        "def is_even_function(x: int) -> str:\n",
        "    if x % 2 == 0:\n",
        "        return \"Even\"\n",
        "    else:\n",
        "        return \"Odd\"\n",
        "\n",
        "# This is a ternary operation stored inside a lambda function\n",
        "is_even_ternary: Callable[[int], str] = lambda x: \"Even\" if x % 2 == 0 else \"Odd\"\n",
        "\n",
        "num = int(input(\"Enter  a number: \"))\n",
        "print(is_even_function(num))\n",
        "print(is_even_ternary(num))"
      ],
      "metadata": {
        "id": "GriJ7JcuuagU"
      },
      "execution_count": null,
      "outputs": []
    },
    {
      "cell_type": "markdown",
      "source": [
        "## Mapping\n",
        "The idea of mapping in Python is when you want to perform an operation on each element of a list, and generate a new list from that list. That's where `map()` comes in.\n",
        "\n",
        "To use `map()`, we have to cast it to an iterable, this means that what `map()` returns is not something we can just print out to see the contents of. Think of when we had to use `range()` originally, it didn't return a list. The same applies here. Inside our `list()`, we can then add the `map()` inside of it to get this: `list(map())`. Inside here is where we will define two things inside the map: an operation to be done on the elements of the iterable, and then the iterable itself. The operation could be a named function or an anonymous function.\n",
        "\n",
        "Let's use `map()` in combination with lambdas to create a new list from an existing one."
      ],
      "metadata": {
        "id": "XwyCMhBpu7Bt"
      }
    },
    {
      "cell_type": "code",
      "source": [
        "import random\n",
        "\n",
        "# First, we will generate a list of random numbers between 0 and 10\n",
        "nums = [random.randint(0, 10) for i in range(10)]\n",
        "print(f\"Our random numbers for this test: {nums}\")\n",
        "\n",
        "# The list we will generate is going to be the numbers but doubled\n",
        "# We will map a lambda to each value in our list\n",
        "doubled_nums = list(map(lambda x: x * 2, nums))\n",
        "print(f\"Our doubled numbers: {doubled_nums}\")\n"
      ],
      "metadata": {
        "id": "WIs7lK_4vAhj"
      },
      "execution_count": null,
      "outputs": []
    },
    {
      "cell_type": "markdown",
      "source": [
        "Below is the same example as shown above, but instead we will declare a named function."
      ],
      "metadata": {
        "id": "Cn6YyDa2vMg8"
      }
    },
    {
      "cell_type": "code",
      "source": [
        "import random\n",
        "\n",
        "# Operation we will perform on our list\n",
        "def double(x: int) -> int:\n",
        "    return x * 2\n",
        "\n",
        "# Our list of randomly generated integers\n",
        "nums = [random.randint(0, 10) for _ in range(10)]\n",
        "print(f\"Our random numbers for this test: {nums}\")\n",
        "\n",
        "# Creating our new list with the values doubled by using our function\n",
        "# When declaring the operation done on the elements, do not put parenthesis with the function.\n",
        "# Python will use the value in the list as the parameter\n",
        "doubled_nums = list(map(double, nums))\n",
        "print(f\"Our doubled numbers: {doubled_nums}\")"
      ],
      "metadata": {
        "id": "Pf9Flc-6vtKs"
      },
      "execution_count": null,
      "outputs": []
    },
    {
      "cell_type": "markdown",
      "source": [
        "## Nesting Functions\n",
        "Sometimes, we may need to nest functions. The way you would do this is by simply declaring a function inside another function. This has many different use cases. Let's look at a few examples for why you may want to nest functions."
      ],
      "metadata": {
        "id": "UiJ5nTFMJ8H9"
      }
    },
    {
      "cell_type": "markdown",
      "source": [
        "### Example 1: Helper Functions\n",
        "Sometimes, to organize your code. You will want to create a helper function, this way this code can be reusable inside the main function you are trying to implement.\n",
        "\n",
        "Let's look at an example in which you want to calculate the volume of different shapes."
      ],
      "metadata": {
        "id": "5uka2rPnJ939"
      }
    },
    {
      "cell_type": "code",
      "source": [
        "def calculate_volume(base_shape: str, length: float, width: float, height: float) -> float:\n",
        "    def calculate_rectangular_area(l: float, w: float) -> float:\n",
        "        return l * w\n",
        "\n",
        "    def calculate_triangular_area(b: float, h: float) -> float:\n",
        "        return 0.5 * b * h\n",
        "\n",
        "    if base_shape.islower() == \"rectangle\":\n",
        "        return calculate_rectangular_area(length, width) * height\n",
        "    elif base_shape.islower() == \"triangle\":\n",
        "        return calculate_triangular_area(length, height)\n",
        "    else:\n",
        "        return 0.0"
      ],
      "metadata": {
        "id": "miK2vvh3J_vr"
      },
      "execution_count": null,
      "outputs": []
    },
    {
      "cell_type": "markdown",
      "source": [
        "In this example, we have a main outer function called `calculate_volume()`. This function has two helper functions called `calculate_rectangular_area()` and `calculate_triangular_area()`. These helper functions are used to calculate the area of the base of the prism, before multiplying by the height. Using this type of organization, we can't call the helper functions outside the `calculate_volume()` function."
      ],
      "metadata": {
        "id": "Pb2_1aQdKEV8"
      }
    },
    {
      "cell_type": "markdown",
      "source": [
        "### Example 2: Data Processing\n",
        "Let's say that to perform an operation on some parameters, you want to validate the data before applying it. You can create a helper function inside your main function that performs the validation."
      ],
      "metadata": {
        "id": "oCYONji6KFsU"
      }
    },
    {
      "cell_type": "code",
      "source": [
        "def add_points(a: list[int], b: list[int]) -> list[int] | int:\n",
        "    def is_valid_point(point: list[int]) -> bool:\n",
        "        return len(point) == 2 and all(isinstance(x, int) for x in point)\n",
        "\n",
        "    if is_valid_point(a) and is_valid_point(b):\n",
        "        return [a[0] + b[0], a[1] + b[1]]\n",
        "    else:\n",
        "        raise ValueError(\"Invalid point(s)\")"
      ],
      "metadata": {
        "id": "g9pUfT2tKGvM"
      },
      "execution_count": null,
      "outputs": []
    },
    {
      "cell_type": "markdown",
      "source": [
        "In this example, we want to simulate the addition of 2 points. But to perform this operation, we need to make sure that the two lists are both 2 and each element in the list is an integer. We do this by creating a helper function that performs the checks that we need and then validate the data passed in our original function. If the data is valid, we perform the operation, else raise a ValueError exception indicating that the data is invalid."
      ],
      "metadata": {
        "id": "l5oPD0aaKJmU"
      }
    },
    {
      "cell_type": "markdown",
      "source": [
        "## Points To Remember\n",
        "Here are some key ideas to remember when applying the concepts we learned in this lesson:\n",
        "* Lambda functions are anonymous functions that are lightweight and quick to use.\n",
        "* Ternary operations are conditional statements that can be written in one line.\n",
        "* You can combine `map()` with lambda functions to perform operations on each element of a list.\n",
        "* You can create complicated lambda functions by using ternaries inside them\n",
        "* Nesting functions can be useful for organizing your code and creating helper functions.\n",
        "    * *Remember*: When nesting functions it is important to understand that the inner function can call variables from the outer function, but the outer function cannot call variables from the inner function."
      ],
      "metadata": {
        "id": "IEfDwqDjKLB0"
      }
    },
    {
      "cell_type": "markdown",
      "source": [
        "## Practice Problem\n",
        "We are a teacher, and we want to know which students in our class are going to pass this marking period, and which ones are going to fail. Each student will be an element inside a dictionary. This dictionary will contain the student's name as the key, and the grade for the marking period as the value. A passing grade is considered a 65 or higher. Furthermore, we also want to compute the letter grade for each student. The criteria for each grade is as follows:\n",
        "   * A: 90–100\n",
        "   * B: 80–89\n",
        "   * C: 70–79\n",
        "   * D: 65–69\n",
        "   * F: 0–64\n",
        "\n",
        "We will use the following information to create a new dictionary such that the key is still the student's name, but this time the value will be a tuple, where the first element is the letter grade, and the second element is a string either \"Pass\" indicating a passing grade or a \"Fail\" indicating a failing grade.\n",
        "\n",
        "I will provide the dictionary for the student and their grade, along with the function signature to be completed. There will be 3 TODOs in this problem."
      ],
      "metadata": {
        "id": "UPjXNdEeKMw8"
      }
    },
    {
      "cell_type": "code",
      "source": [
        "from typing import Callable\n",
        "\n",
        "def compute_student_grades(students: dict[str, int]) -> dict[str, list[str]]:\n",
        "    # TODO: create a dictionary to store the student's name, letter grade, and pass/fail status using the map() function, lambdas, and ternary operations, and any helper functions where needed.\n",
        "\n",
        "    def calculate_letter_grade(grade: int) -> str:\n",
        "        # TODO: helper function that takes in a grade and returns the letter grade based on the criteria above\n",
        "        pass\n",
        "\n",
        "    pass_fail: Callable[[str], str] = lambda: None    # TODO: Fill in the lambda function to determine if the student passes or fails\n",
        "\n",
        "    student_grades: dict[str, list[str]] = {}\n",
        "    return student_grades\n",
        "\n",
        "if __name__ == \"__main__\":\n",
        "    roll: dict[str, int] = {\n",
        "        \"Alice\": 95,\n",
        "        \"Bob\": 75,\n",
        "        \"Charlie\": 60,\n",
        "        \"David\": 85,\n",
        "        \"Eve\": 45\n",
        "    }\n",
        "    print(compute_student_grades(roll))"
      ],
      "metadata": {
        "id": "5p_QAFh4KOik"
      },
      "execution_count": null,
      "outputs": []
    }
  ]
}