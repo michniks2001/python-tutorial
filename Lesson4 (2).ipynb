{
  "nbformat": 4,
  "nbformat_minor": 0,
  "metadata": {
    "colab": {
      "provenance": []
    },
    "kernelspec": {
      "name": "python3",
      "display_name": "Python 3"
    },
    "language_info": {
      "name": "python"
    }
  },
  "cells": [
    {
      "cell_type": "markdown",
      "source": [
        "# Lesson 4\n",
        "Last time, we learned about the `input()` function as well as type casting. In this lesson, we will be going over conditional statements.\n",
        "\n",
        "Conditional statements are simply put, statements that have conditions. The way we write conditional statements is with the use of the `if` keyword."
      ],
      "metadata": {
        "id": "FVLtOPVpwE8F"
      }
    },
    {
      "cell_type": "code",
      "execution_count": null,
      "metadata": {
        "id": "mLICQdOnwCwh"
      },
      "outputs": [],
      "source": [
        "value = 3\n",
        "\n",
        "if value > 0:\n",
        "  print('The value is greater than 0')"
      ]
    },
    {
      "cell_type": "markdown",
      "source": [
        "After the `if` keyword, we write a condition. If that condition is fulfilled, then the program will run everything that is tabbed underneath the statement. If that condition is not fulfilled, then the statement is not run."
      ],
      "metadata": {
        "id": "WupBLRIywsW8"
      }
    },
    {
      "cell_type": "code",
      "source": [
        "value = 3\n",
        "\n",
        "if value > 5:\n",
        "  print('The value is greater than 5')"
      ],
      "metadata": {
        "id": "2vnRABY-xDCV"
      },
      "execution_count": null,
      "outputs": []
    },
    {
      "cell_type": "markdown",
      "source": [
        "As you can see the condition is not fulfilled, therefore nothing gets printed to the console"
      ],
      "metadata": {
        "id": "i82e5os_xIF2"
      }
    },
    {
      "cell_type": "markdown",
      "source": [
        "## Logical Operators\n",
        "\n",
        "Conditional statements use many different operations to determine whether or not a statement is true. Below are just some of the keywords and operators that are used in determining conditional statements. Feel free to play around with the variables below and see how they interact with each other by changing them around.\n",
        "\n"
      ],
      "metadata": {
        "id": "FOLPAGFQxTOK"
      }
    },
    {
      "cell_type": "code",
      "source": [
        "value_1 = 3\n",
        "value_2 = 4\n",
        "print(f'Is {value_1} equal to {value_2}?', value_1 == value_2)   # == stands for \"is equal to\"\n",
        "print(f'Is {value_1} not equal to {value_2}?', value_1 != value_2)   # != stands for \"is not equal to\"\n",
        "print(f'Is {value_1} less than {value_2}?', value_1 < value_2)    # < stands for \"is less than\"\n",
        "print(f'Is {value_1} greater than {value_2}?', value_1 > value_2)    # > stands for \"is greater than\"\n",
        "\n",
        "\n",
        "value_3 = True\n",
        "value_4 = False\n",
        "print(f'{value_3} and {value_4} =', value_3 and value_4)  # The \"and\" keyword checks whether both values on either side are True\n",
        "print(f'{value_3} or {value_4} =', value_3 or value_4)   # The \"or\" keyword checks whether one of the values on either side is True\n",
        "print(f'not {value_3} =', not value_3)          # The \"not\" keyword inverts the value after it to the opposite of what the value was originally declared as"
      ],
      "metadata": {
        "id": "U2gHwelGxu9P"
      },
      "execution_count": null,
      "outputs": []
    },
    {
      "cell_type": "markdown",
      "source": [
        "Notice that the output of each logical expression is either True or False. That means that essentially when we run an if-statement, the value evaluated after the if-statement determines whether the code beneath it is run as shown previously."
      ],
      "metadata": {
        "id": "fD2-WOPe0Fvf"
      }
    },
    {
      "cell_type": "markdown",
      "source": [
        "## If, Else, Elif\n",
        "\n",
        "Often times when programming, outcomes will not always come out the way you may expect them to, so there are other kinds of statements that can control the flow of the program.\n",
        "\n",
        "The if-statement describes an initial condition. If this condition is not satisfied, then the program will move onto the next line after whatever would happen if the condition is satsified.\n",
        "\n",
        "The elif-statement describes a secondary condition. If the if-statement condition was not satisfied, you can use an elif to describe another condition that could potentially be satisfied by your program.\n",
        "\n",
        "The else-statement describes a final resort. If every other statement prior to the else-statement has not been satisfied, then all other possibilities will be satisfied by the else-statement.\n",
        "\n",
        "Feel free to play around and change the values of x and y to see how each of the statements in the block of code can execute"
      ],
      "metadata": {
        "id": "KmNIRxt10lxw"
      }
    },
    {
      "cell_type": "code",
      "source": [
        "x = 10\n",
        "y = 15\n",
        "\n",
        "if x < y:\n",
        "  print(f'{x} < {y}')\n",
        "elif x > y:\n",
        "  print(f'{x} > {y}')\n",
        "else:\n",
        "  print(f'{x} = {y}')"
      ],
      "metadata": {
        "id": "uuXWxahe1pJi"
      },
      "execution_count": null,
      "outputs": []
    },
    {
      "cell_type": "markdown",
      "source": [
        "## Assignment\n",
        "Write a program that uses if, elif, and else statements to determine whether a number is a divisible of 6, and if that number is divisible by 6 I want you to divide that number by 3. If that number is not divisible by 6 then check if that number is divisble by 3, and if it is divisble by 3, then multiply that number by 2 and print that result. If the number is not divisble by 3 or 6, then just print the number.\n",
        "\n",
        "**HINT**: The modulus operator (`%`) returns the remainder when dividing two numbers. How can you use the modulus operator to determine divisibility?\n",
        "\n",
        "```\n",
        "Test Case #1: 7\n",
        "Result: 7\n",
        "\n",
        "Test Case #2: 9\n",
        "Result: 18\n",
        "\n",
        "Test Case #3: 12\n",
        "Result: 4.0\n",
        "```"
      ],
      "metadata": {
        "id": "IAtV7SVDWfsa"
      }
    }
  ]
}